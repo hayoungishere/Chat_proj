{
 "cells": [
  {
   "cell_type": "markdown",
   "metadata": {
    "id": "QFu6BpI3ImCg"
   },
   "source": [
    "# **Titanic 데이터를 이용한 <span style=\"color:darkgreen\">머신러닝</span> 문제**\n",
    "---"
   ]
  },
  {
   "cell_type": "markdown",
   "metadata": {
    "id": "YjQkc3VKsho0"
   },
   "source": [
    "> **<span style=\"color:red\">다음 문항을 풀기 전에 </span>아래 코드를 실행하시오.**<br>\n",
    "> 반드시 코드와 주석을 읽고 문제를 푸시오. <br>\n",
    "> 반드시 출력된 데이터 설명을 읽고 문제를 푸시오.\n",
    "\n",
    "---\n",
    "\n"
   ]
  },
  {
   "cell_type": "code",
   "execution_count": 1,
   "metadata": {
    "id": "C9eLCghiKAul"
   },
   "outputs": [
    {
     "name": "stdout",
     "output_type": "stream",
     "text": [
      "(1309, 13) (1309,)\n",
      "0    1\n",
      "1    1\n",
      "2    0\n",
      "3    0\n",
      "Name: survived, dtype: category\n",
      "Categories (2, object): ['0', '1']\n"
     ]
    },
    {
     "data": {
      "text/html": [
       "<div>\n",
       "<style scoped>\n",
       "    .dataframe tbody tr th:only-of-type {\n",
       "        vertical-align: middle;\n",
       "    }\n",
       "\n",
       "    .dataframe tbody tr th {\n",
       "        vertical-align: top;\n",
       "    }\n",
       "\n",
       "    .dataframe thead th {\n",
       "        text-align: right;\n",
       "    }\n",
       "</style>\n",
       "<table border=\"1\" class=\"dataframe\">\n",
       "  <thead>\n",
       "    <tr style=\"text-align: right;\">\n",
       "      <th></th>\n",
       "      <th>pclass</th>\n",
       "      <th>name</th>\n",
       "      <th>sex</th>\n",
       "      <th>age</th>\n",
       "      <th>sibsp</th>\n",
       "      <th>parch</th>\n",
       "      <th>ticket</th>\n",
       "      <th>fare</th>\n",
       "      <th>cabin</th>\n",
       "      <th>embarked</th>\n",
       "      <th>boat</th>\n",
       "      <th>body</th>\n",
       "      <th>home.dest</th>\n",
       "    </tr>\n",
       "  </thead>\n",
       "  <tbody>\n",
       "    <tr>\n",
       "      <th>0</th>\n",
       "      <td>1.0</td>\n",
       "      <td>Allen, Miss. Elisabeth Walton</td>\n",
       "      <td>female</td>\n",
       "      <td>29.0000</td>\n",
       "      <td>0.0</td>\n",
       "      <td>0.0</td>\n",
       "      <td>24160</td>\n",
       "      <td>211.3375</td>\n",
       "      <td>B5</td>\n",
       "      <td>S</td>\n",
       "      <td>2</td>\n",
       "      <td>NaN</td>\n",
       "      <td>St Louis, MO</td>\n",
       "    </tr>\n",
       "    <tr>\n",
       "      <th>1</th>\n",
       "      <td>1.0</td>\n",
       "      <td>Allison, Master. Hudson Trevor</td>\n",
       "      <td>male</td>\n",
       "      <td>0.9167</td>\n",
       "      <td>1.0</td>\n",
       "      <td>2.0</td>\n",
       "      <td>113781</td>\n",
       "      <td>151.5500</td>\n",
       "      <td>C22 C26</td>\n",
       "      <td>S</td>\n",
       "      <td>11</td>\n",
       "      <td>NaN</td>\n",
       "      <td>Montreal, PQ / Chesterville, ON</td>\n",
       "    </tr>\n",
       "    <tr>\n",
       "      <th>2</th>\n",
       "      <td>1.0</td>\n",
       "      <td>Allison, Miss. Helen Loraine</td>\n",
       "      <td>female</td>\n",
       "      <td>2.0000</td>\n",
       "      <td>1.0</td>\n",
       "      <td>2.0</td>\n",
       "      <td>113781</td>\n",
       "      <td>151.5500</td>\n",
       "      <td>C22 C26</td>\n",
       "      <td>S</td>\n",
       "      <td>None</td>\n",
       "      <td>NaN</td>\n",
       "      <td>Montreal, PQ / Chesterville, ON</td>\n",
       "    </tr>\n",
       "    <tr>\n",
       "      <th>3</th>\n",
       "      <td>1.0</td>\n",
       "      <td>Allison, Mr. Hudson Joshua Creighton</td>\n",
       "      <td>male</td>\n",
       "      <td>30.0000</td>\n",
       "      <td>1.0</td>\n",
       "      <td>2.0</td>\n",
       "      <td>113781</td>\n",
       "      <td>151.5500</td>\n",
       "      <td>C22 C26</td>\n",
       "      <td>S</td>\n",
       "      <td>None</td>\n",
       "      <td>135.0</td>\n",
       "      <td>Montreal, PQ / Chesterville, ON</td>\n",
       "    </tr>\n",
       "    <tr>\n",
       "      <th>4</th>\n",
       "      <td>1.0</td>\n",
       "      <td>Allison, Mrs. Hudson J C (Bessie Waldo Daniels)</td>\n",
       "      <td>female</td>\n",
       "      <td>25.0000</td>\n",
       "      <td>1.0</td>\n",
       "      <td>2.0</td>\n",
       "      <td>113781</td>\n",
       "      <td>151.5500</td>\n",
       "      <td>C22 C26</td>\n",
       "      <td>S</td>\n",
       "      <td>None</td>\n",
       "      <td>NaN</td>\n",
       "      <td>Montreal, PQ / Chesterville, ON</td>\n",
       "    </tr>\n",
       "  </tbody>\n",
       "</table>\n",
       "</div>"
      ],
      "text/plain": [
       "   pclass                                             name     sex      age  \\\n",
       "0     1.0                    Allen, Miss. Elisabeth Walton  female  29.0000   \n",
       "1     1.0                   Allison, Master. Hudson Trevor    male   0.9167   \n",
       "2     1.0                     Allison, Miss. Helen Loraine  female   2.0000   \n",
       "3     1.0             Allison, Mr. Hudson Joshua Creighton    male  30.0000   \n",
       "4     1.0  Allison, Mrs. Hudson J C (Bessie Waldo Daniels)  female  25.0000   \n",
       "\n",
       "   sibsp  parch  ticket      fare    cabin embarked  boat   body  \\\n",
       "0    0.0    0.0   24160  211.3375       B5        S     2    NaN   \n",
       "1    1.0    2.0  113781  151.5500  C22 C26        S    11    NaN   \n",
       "2    1.0    2.0  113781  151.5500  C22 C26        S  None    NaN   \n",
       "3    1.0    2.0  113781  151.5500  C22 C26        S  None  135.0   \n",
       "4    1.0    2.0  113781  151.5500  C22 C26        S  None    NaN   \n",
       "\n",
       "                         home.dest  \n",
       "0                     St Louis, MO  \n",
       "1  Montreal, PQ / Chesterville, ON  \n",
       "2  Montreal, PQ / Chesterville, ON  \n",
       "3  Montreal, PQ / Chesterville, ON  \n",
       "4  Montreal, PQ / Chesterville, ON  "
      ]
     },
     "execution_count": 1,
     "metadata": {},
     "output_type": "execute_result"
    }
   ],
   "source": [
    "import numpy as np\n",
    "import pandas as pd\n",
    "import matplotlib.pyplot as plt\n",
    "from sklearn.datasets import fetch_openml\n",
    "\n",
    "x, y = fetch_openml(\"titanic\", version=1, as_frame=True, return_X_y=True)\n",
    "\n",
    "print( x.shape, y.shape)\n",
    "print(y[:4])\n",
    "x.head()"
   ]
  },
  {
   "cell_type": "markdown",
   "metadata": {
    "id": "TMGU532GBerx"
   },
   "source": [
    "# **Q1. x에서 다음의 컬럼을 삭제하시오.**\n",
    "---------------------------------\n",
    "**삭제할 컬럼들**\n",
    "1. name\n",
    "2. ticket\n",
    "2. boat\n",
    "3. body\n",
    "4. home.dest\n",
    "---------------------------"
   ]
  },
  {
   "cell_type": "code",
   "execution_count": 2,
   "metadata": {
    "id": "k6x4Hc09N1X8"
   },
   "outputs": [
    {
     "data": {
      "text/html": [
       "<div>\n",
       "<style scoped>\n",
       "    .dataframe tbody tr th:only-of-type {\n",
       "        vertical-align: middle;\n",
       "    }\n",
       "\n",
       "    .dataframe tbody tr th {\n",
       "        vertical-align: top;\n",
       "    }\n",
       "\n",
       "    .dataframe thead th {\n",
       "        text-align: right;\n",
       "    }\n",
       "</style>\n",
       "<table border=\"1\" class=\"dataframe\">\n",
       "  <thead>\n",
       "    <tr style=\"text-align: right;\">\n",
       "      <th></th>\n",
       "      <th>pclass</th>\n",
       "      <th>sex</th>\n",
       "      <th>age</th>\n",
       "      <th>sibsp</th>\n",
       "      <th>parch</th>\n",
       "      <th>fare</th>\n",
       "      <th>cabin</th>\n",
       "      <th>embarked</th>\n",
       "    </tr>\n",
       "  </thead>\n",
       "  <tbody>\n",
       "    <tr>\n",
       "      <th>0</th>\n",
       "      <td>1.0</td>\n",
       "      <td>female</td>\n",
       "      <td>29.0000</td>\n",
       "      <td>0.0</td>\n",
       "      <td>0.0</td>\n",
       "      <td>211.3375</td>\n",
       "      <td>B5</td>\n",
       "      <td>S</td>\n",
       "    </tr>\n",
       "    <tr>\n",
       "      <th>1</th>\n",
       "      <td>1.0</td>\n",
       "      <td>male</td>\n",
       "      <td>0.9167</td>\n",
       "      <td>1.0</td>\n",
       "      <td>2.0</td>\n",
       "      <td>151.5500</td>\n",
       "      <td>C22 C26</td>\n",
       "      <td>S</td>\n",
       "    </tr>\n",
       "    <tr>\n",
       "      <th>2</th>\n",
       "      <td>1.0</td>\n",
       "      <td>female</td>\n",
       "      <td>2.0000</td>\n",
       "      <td>1.0</td>\n",
       "      <td>2.0</td>\n",
       "      <td>151.5500</td>\n",
       "      <td>C22 C26</td>\n",
       "      <td>S</td>\n",
       "    </tr>\n",
       "    <tr>\n",
       "      <th>3</th>\n",
       "      <td>1.0</td>\n",
       "      <td>male</td>\n",
       "      <td>30.0000</td>\n",
       "      <td>1.0</td>\n",
       "      <td>2.0</td>\n",
       "      <td>151.5500</td>\n",
       "      <td>C22 C26</td>\n",
       "      <td>S</td>\n",
       "    </tr>\n",
       "    <tr>\n",
       "      <th>4</th>\n",
       "      <td>1.0</td>\n",
       "      <td>female</td>\n",
       "      <td>25.0000</td>\n",
       "      <td>1.0</td>\n",
       "      <td>2.0</td>\n",
       "      <td>151.5500</td>\n",
       "      <td>C22 C26</td>\n",
       "      <td>S</td>\n",
       "    </tr>\n",
       "  </tbody>\n",
       "</table>\n",
       "</div>"
      ],
      "text/plain": [
       "   pclass     sex      age  sibsp  parch      fare    cabin embarked\n",
       "0     1.0  female  29.0000    0.0    0.0  211.3375       B5        S\n",
       "1     1.0    male   0.9167    1.0    2.0  151.5500  C22 C26        S\n",
       "2     1.0  female   2.0000    1.0    2.0  151.5500  C22 C26        S\n",
       "3     1.0    male  30.0000    1.0    2.0  151.5500  C22 C26        S\n",
       "4     1.0  female  25.0000    1.0    2.0  151.5500  C22 C26        S"
      ]
     },
     "execution_count": 2,
     "metadata": {},
     "output_type": "execute_result"
    }
   ],
   "source": [
    "####################\n",
    "## Your code here ##\n",
    "####################\n",
    "x = x.drop(columns=['name', 'ticket', 'boat','body', 'home.dest'])\n",
    "x.head()"
   ]
  },
  {
   "cell_type": "markdown",
   "metadata": {
    "id": "5gwJ-yZrpKR7"
   },
   "source": [
    "# Q2. x의 cabin 컬럼을 다음 조건에 맞추어 변형하시오.\n",
    "-------------------\n",
    "* 값의 맨 앞글자만 남긴다.\n",
    "    * 예시) C22 C26 -> C\n",
    "    * 예시) B5 -> B\n",
    "* 값이 빈값일 경우, 'N'을 남긴다.\n",
    "--------------------"
   ]
  },
  {
   "cell_type": "code",
   "execution_count": 3,
   "metadata": {},
   "outputs": [
    {
     "data": {
      "text/plain": [
       "<bound method Series.unique of 0            B5\n",
       "1       C22 C26\n",
       "2       C22 C26\n",
       "3       C22 C26\n",
       "4       C22 C26\n",
       "         ...   \n",
       "1304       None\n",
       "1305       None\n",
       "1306       None\n",
       "1307       None\n",
       "1308       None\n",
       "Name: cabin, Length: 1309, dtype: object>"
      ]
     },
     "execution_count": 3,
     "metadata": {},
     "output_type": "execute_result"
    }
   ],
   "source": [
    "x['cabin'].unique"
   ]
  },
  {
   "cell_type": "code",
   "execution_count": 4,
   "metadata": {},
   "outputs": [],
   "source": [
    "def getFIrstString(x) :\n",
    "    if x == None:\n",
    "        return 'N'\n",
    "    return x[0]"
   ]
  },
  {
   "cell_type": "code",
   "execution_count": 5,
   "metadata": {
    "id": "cAuRxyjRp2QY"
   },
   "outputs": [],
   "source": [
    "####################\n",
    "## Your code here ##\n",
    "###################\n",
    "\n",
    "\n",
    "\n",
    "x['cabin']=x['cabin'].apply(getFIrstString)\n"
   ]
  },
  {
   "cell_type": "code",
   "execution_count": 6,
   "metadata": {},
   "outputs": [
    {
     "data": {
      "text/html": [
       "<div>\n",
       "<style scoped>\n",
       "    .dataframe tbody tr th:only-of-type {\n",
       "        vertical-align: middle;\n",
       "    }\n",
       "\n",
       "    .dataframe tbody tr th {\n",
       "        vertical-align: top;\n",
       "    }\n",
       "\n",
       "    .dataframe thead th {\n",
       "        text-align: right;\n",
       "    }\n",
       "</style>\n",
       "<table border=\"1\" class=\"dataframe\">\n",
       "  <thead>\n",
       "    <tr style=\"text-align: right;\">\n",
       "      <th></th>\n",
       "      <th>pclass</th>\n",
       "      <th>sex</th>\n",
       "      <th>age</th>\n",
       "      <th>sibsp</th>\n",
       "      <th>parch</th>\n",
       "      <th>fare</th>\n",
       "      <th>cabin</th>\n",
       "      <th>embarked</th>\n",
       "    </tr>\n",
       "  </thead>\n",
       "  <tbody>\n",
       "    <tr>\n",
       "      <th>0</th>\n",
       "      <td>1.0</td>\n",
       "      <td>female</td>\n",
       "      <td>29.0000</td>\n",
       "      <td>0.0</td>\n",
       "      <td>0.0</td>\n",
       "      <td>211.3375</td>\n",
       "      <td>B</td>\n",
       "      <td>S</td>\n",
       "    </tr>\n",
       "    <tr>\n",
       "      <th>1</th>\n",
       "      <td>1.0</td>\n",
       "      <td>male</td>\n",
       "      <td>0.9167</td>\n",
       "      <td>1.0</td>\n",
       "      <td>2.0</td>\n",
       "      <td>151.5500</td>\n",
       "      <td>C</td>\n",
       "      <td>S</td>\n",
       "    </tr>\n",
       "    <tr>\n",
       "      <th>2</th>\n",
       "      <td>1.0</td>\n",
       "      <td>female</td>\n",
       "      <td>2.0000</td>\n",
       "      <td>1.0</td>\n",
       "      <td>2.0</td>\n",
       "      <td>151.5500</td>\n",
       "      <td>C</td>\n",
       "      <td>S</td>\n",
       "    </tr>\n",
       "    <tr>\n",
       "      <th>3</th>\n",
       "      <td>1.0</td>\n",
       "      <td>male</td>\n",
       "      <td>30.0000</td>\n",
       "      <td>1.0</td>\n",
       "      <td>2.0</td>\n",
       "      <td>151.5500</td>\n",
       "      <td>C</td>\n",
       "      <td>S</td>\n",
       "    </tr>\n",
       "    <tr>\n",
       "      <th>4</th>\n",
       "      <td>1.0</td>\n",
       "      <td>female</td>\n",
       "      <td>25.0000</td>\n",
       "      <td>1.0</td>\n",
       "      <td>2.0</td>\n",
       "      <td>151.5500</td>\n",
       "      <td>C</td>\n",
       "      <td>S</td>\n",
       "    </tr>\n",
       "  </tbody>\n",
       "</table>\n",
       "</div>"
      ],
      "text/plain": [
       "   pclass     sex      age  sibsp  parch      fare cabin embarked\n",
       "0     1.0  female  29.0000    0.0    0.0  211.3375     B        S\n",
       "1     1.0    male   0.9167    1.0    2.0  151.5500     C        S\n",
       "2     1.0  female   2.0000    1.0    2.0  151.5500     C        S\n",
       "3     1.0    male  30.0000    1.0    2.0  151.5500     C        S\n",
       "4     1.0  female  25.0000    1.0    2.0  151.5500     C        S"
      ]
     },
     "execution_count": 6,
     "metadata": {},
     "output_type": "execute_result"
    }
   ],
   "source": [
    "x.head()"
   ]
  },
  {
   "cell_type": "markdown",
   "metadata": {
    "id": "UTgMqQJUx_cb"
   },
   "source": [
    "# Q3. 다음 조건에 맞추어 x에 새로운 컬럼 fs를 만드시오.\n",
    "-------------------\n",
    "* sibsp와 parch의 합을 기준으로\n",
    "    - 1이하 : 'a' 를 값으로 갖는다.\n",
    "    - 1초과 4이하 : 'b' 를 값으로 갖는다.\n",
    "    - 4초과 : 'c' 를 값으로 갖는다.\n",
    "----------------"
   ]
  },
  {
   "cell_type": "code",
   "execution_count": 7,
   "metadata": {
    "id": "VyzPE0zfx_cb"
   },
   "outputs": [],
   "source": [
    "####################\n",
    "## Your code here ##\n",
    "####################\n",
    "x['fs'] = x['sibsp'] + x['parch']"
   ]
  },
  {
   "cell_type": "code",
   "execution_count": 8,
   "metadata": {},
   "outputs": [
    {
     "data": {
      "text/plain": [
       "numpy.float64"
      ]
     },
     "execution_count": 8,
     "metadata": {},
     "output_type": "execute_result"
    }
   ],
   "source": [
    "type(x['fs'][0])"
   ]
  },
  {
   "cell_type": "code",
   "execution_count": 9,
   "metadata": {},
   "outputs": [],
   "source": [
    "def convertFS(x) :\n",
    "    if float(x) <= 1.0:\n",
    "        return 'a'\n",
    "    elif float(x)>1.0 and float(x)<=4.0:\n",
    "        return 'b'\n",
    "    return 'c'\n",
    "    \n"
   ]
  },
  {
   "cell_type": "code",
   "execution_count": 10,
   "metadata": {},
   "outputs": [],
   "source": [
    "x['fs'] = x['fs'].apply(convertFS)"
   ]
  },
  {
   "cell_type": "code",
   "execution_count": 11,
   "metadata": {},
   "outputs": [
    {
     "data": {
      "text/html": [
       "<div>\n",
       "<style scoped>\n",
       "    .dataframe tbody tr th:only-of-type {\n",
       "        vertical-align: middle;\n",
       "    }\n",
       "\n",
       "    .dataframe tbody tr th {\n",
       "        vertical-align: top;\n",
       "    }\n",
       "\n",
       "    .dataframe thead th {\n",
       "        text-align: right;\n",
       "    }\n",
       "</style>\n",
       "<table border=\"1\" class=\"dataframe\">\n",
       "  <thead>\n",
       "    <tr style=\"text-align: right;\">\n",
       "      <th></th>\n",
       "      <th>pclass</th>\n",
       "      <th>sex</th>\n",
       "      <th>age</th>\n",
       "      <th>sibsp</th>\n",
       "      <th>parch</th>\n",
       "      <th>fare</th>\n",
       "      <th>cabin</th>\n",
       "      <th>embarked</th>\n",
       "      <th>fs</th>\n",
       "    </tr>\n",
       "  </thead>\n",
       "  <tbody>\n",
       "    <tr>\n",
       "      <th>0</th>\n",
       "      <td>1.0</td>\n",
       "      <td>female</td>\n",
       "      <td>29.0000</td>\n",
       "      <td>0.0</td>\n",
       "      <td>0.0</td>\n",
       "      <td>211.3375</td>\n",
       "      <td>B</td>\n",
       "      <td>S</td>\n",
       "      <td>a</td>\n",
       "    </tr>\n",
       "    <tr>\n",
       "      <th>1</th>\n",
       "      <td>1.0</td>\n",
       "      <td>male</td>\n",
       "      <td>0.9167</td>\n",
       "      <td>1.0</td>\n",
       "      <td>2.0</td>\n",
       "      <td>151.5500</td>\n",
       "      <td>C</td>\n",
       "      <td>S</td>\n",
       "      <td>b</td>\n",
       "    </tr>\n",
       "    <tr>\n",
       "      <th>2</th>\n",
       "      <td>1.0</td>\n",
       "      <td>female</td>\n",
       "      <td>2.0000</td>\n",
       "      <td>1.0</td>\n",
       "      <td>2.0</td>\n",
       "      <td>151.5500</td>\n",
       "      <td>C</td>\n",
       "      <td>S</td>\n",
       "      <td>b</td>\n",
       "    </tr>\n",
       "    <tr>\n",
       "      <th>3</th>\n",
       "      <td>1.0</td>\n",
       "      <td>male</td>\n",
       "      <td>30.0000</td>\n",
       "      <td>1.0</td>\n",
       "      <td>2.0</td>\n",
       "      <td>151.5500</td>\n",
       "      <td>C</td>\n",
       "      <td>S</td>\n",
       "      <td>b</td>\n",
       "    </tr>\n",
       "    <tr>\n",
       "      <th>4</th>\n",
       "      <td>1.0</td>\n",
       "      <td>female</td>\n",
       "      <td>25.0000</td>\n",
       "      <td>1.0</td>\n",
       "      <td>2.0</td>\n",
       "      <td>151.5500</td>\n",
       "      <td>C</td>\n",
       "      <td>S</td>\n",
       "      <td>b</td>\n",
       "    </tr>\n",
       "  </tbody>\n",
       "</table>\n",
       "</div>"
      ],
      "text/plain": [
       "   pclass     sex      age  sibsp  parch      fare cabin embarked fs\n",
       "0     1.0  female  29.0000    0.0    0.0  211.3375     B        S  a\n",
       "1     1.0    male   0.9167    1.0    2.0  151.5500     C        S  b\n",
       "2     1.0  female   2.0000    1.0    2.0  151.5500     C        S  b\n",
       "3     1.0    male  30.0000    1.0    2.0  151.5500     C        S  b\n",
       "4     1.0  female  25.0000    1.0    2.0  151.5500     C        S  b"
      ]
     },
     "execution_count": 11,
     "metadata": {},
     "output_type": "execute_result"
    }
   ],
   "source": [
    "x.head()"
   ]
  },
  {
   "cell_type": "markdown",
   "metadata": {
    "id": "Fp3Zu8kUyyCJ"
   },
   "source": [
    "# Q4. x와 y를 트레이닝/벨리데이션/테스트 셋으로 분리하시오.\n",
    "----------------------\n",
    "* 변수명 규칙 :\n",
    "    - x_train, x_valid, x_test\n",
    "    - y_train, y_valid, y_test\n",
    "* train : valid : test = 6 : 2 : 2\n",
    "* random state, seed 등은 2021로 고정\n",
    "------------------------"
   ]
  },
  {
   "cell_type": "code",
   "execution_count": 12,
   "metadata": {
    "id": "d_vv3Z8Jzim7"
   },
   "outputs": [
    {
     "name": "stdout",
     "output_type": "stream",
     "text": [
      "(785, 9)\n",
      "(785,)\n",
      "(262, 9)\n",
      "(262,)\n",
      "(262, 9)\n",
      "(262,)\n"
     ]
    },
    {
     "data": {
      "text/plain": [
       "(None, None)"
      ]
     },
     "execution_count": 12,
     "metadata": {},
     "output_type": "execute_result"
    }
   ],
   "source": [
    "####################\n",
    "## Your code here ##\n",
    "####################\n",
    "from sklearn.model_selection import train_test_split\n",
    "x_train, x_valid, y_train, y_valid = train_test_split(x,y, train_size=0.6)\n",
    "x_valid, x_test, y_valid, y_test = train_test_split(x_valid,y_valid, test_size=0.5)\n",
    "\n",
    "print(x_train.shape), print(y_train.shape)\n",
    "print(x_valid.shape), print(y_valid.shape)\n",
    "print(x_test.shape), print(y_test.shape)"
   ]
  },
  {
   "cell_type": "code",
   "execution_count": null,
   "metadata": {},
   "outputs": [],
   "source": []
  },
  {
   "cell_type": "markdown",
   "metadata": {
    "id": "HQRUm3h_z2AF"
   },
   "source": [
    "# Q5. 카테고리 데이터들에 빈값이 있다면, 최빈값을 찾아 imputing하시오.\n",
    "----------------------------\n",
    "* 모든 전처리 규칙은 트레이닝 셋을 바탕으로 찾는다.\n",
    "* 대상 컬럼 : pclass, cabin, embarked\n",
    "* 모든 x들에 대해 진행\n",
    "----------------------------"
   ]
  },
  {
   "cell_type": "code",
   "execution_count": 13,
   "metadata": {
    "id": "rm9WsBM30DXP"
   },
   "outputs": [
    {
     "name": "stdout",
     "output_type": "stream",
     "text": [
      "plcass describe count    1309.000000\n",
      "mean        2.294882\n",
      "std         0.837836\n",
      "min         1.000000\n",
      "25%         2.000000\n",
      "50%         3.000000\n",
      "75%         3.000000\n",
      "max         3.000000\n",
      "Name: pclass, dtype: float64\n",
      "cabin describe count     1309\n",
      "unique       9\n",
      "top          N\n",
      "freq      1014\n",
      "Name: cabin, dtype: object\n",
      "embarked describe count     1309\n",
      "unique       3\n",
      "top          S\n",
      "freq       916\n",
      "Name: embarked, dtype: object\n"
     ]
    }
   ],
   "source": [
    "####################\n",
    "## Your code here ##\n",
    "####################\n",
    "\n",
    "x['pclass'].fillna(x['pclass'].mode()[0], inplace = True)\n",
    "x['cabin'].fillna(x['cabin'].mode()[0], inplace = True)\n",
    "x['embarked'].fillna(x['embarked'].mode()[0], inplace = True)\n",
    "\n",
    "print('plcass describe', x['pclass'].describe())\n",
    "print('cabin describe', x['cabin'].describe())\n",
    "print('embarked describe', x['embarked'].describe())\n",
    "\n"
   ]
  },
  {
   "cell_type": "markdown",
   "metadata": {
    "id": "mZHMwrc5EreJ"
   },
   "source": [
    "# Q6. 연속형 데이터들에 빈값이 있다면, 중앙값을 찾아 imputing하시오.\n",
    "----------------------------\n",
    "* 모든 전처리 규칙은 트레이닝 셋을 바탕으로 찾는다.\n",
    "* 대상 컬럼 : age, fare\n",
    "* 모든 x들에 대해 진행\n",
    "----------------------------"
   ]
  },
  {
   "cell_type": "code",
   "execution_count": 14,
   "metadata": {
    "id": "0zQ2Yrx9EreK",
    "scrolled": true
   },
   "outputs": [
    {
     "name": "stdout",
     "output_type": "stream",
     "text": [
      "age describe count    1309.000000\n",
      "mean       29.503183\n",
      "std        12.905246\n",
      "min         0.166700\n",
      "25%        22.000000\n",
      "50%        28.000000\n",
      "75%        35.000000\n",
      "max        80.000000\n",
      "Name: age, dtype: float64\n",
      "fare describe count    1309.000000\n",
      "mean       33.281086\n",
      "std        51.741500\n",
      "min         0.000000\n",
      "25%         7.895800\n",
      "50%        14.454200\n",
      "75%        31.275000\n",
      "max       512.329200\n",
      "Name: fare, dtype: float64\n"
     ]
    }
   ],
   "source": [
    "####################\n",
    "## Your code here ##\n",
    "####################\n",
    "\n",
    "x['age'].fillna(x['age'].median(), inplace = True)\n",
    "x['fare'].fillna(x['fare'].median(), inplace = True)\n",
    "\n",
    "print('age describe', x['age'].describe())\n",
    "print('fare describe', x['fare'].describe())"
   ]
  },
  {
   "cell_type": "markdown",
   "metadata": {
    "id": "33L8AOKB6GGq"
   },
   "source": [
    "# Q7. 카테고리 데이터들을 dummy 변수화 하시오.\n",
    "-------------------------------\n",
    "* 모든 전처리 규칙은 트레이닝셋을 바탕으로 찾는다.\n",
    "* 대상 컬럼 : pclass, cabin, embarked, fs, sex\n",
    "* 더미변수를 만든 후, 원본 변수는 삭제한다.\n",
    "* 모든 x들에 대해 진행\n",
    "* 카테고리 안에 4개 클래스가 있다면, 3개 컬럼이 만들어져야 한다.\n",
    "* x_valid와 x_test의 컬럼들은 x_train의 컬럼과 종류와 순서가 같아야 한다.\n",
    "-------------------------------"
   ]
  },
  {
   "cell_type": "code",
   "execution_count": 15,
   "metadata": {
    "id": "7pkUczKAHFMr",
    "scrolled": true
   },
   "outputs": [
    {
     "name": "stdout",
     "output_type": "stream",
     "text": [
      "x_train       age  sibsp  parch     fare  pclass_1.0  pclass_2.0  pclass_3.0  cabin_A  \\\n",
      "866   2.0    0.0    1.0  12.2875           0           0           1        0   \n",
      "622   4.0    4.0    2.0  31.2750           0           0           1        0   \n",
      "933  26.0    2.0    0.0   8.6625           0           0           1        0   \n",
      "494  24.0    1.0    1.0  37.0042           0           1           0        0   \n",
      "680   NaN    0.0    0.0   7.2250           0           0           1        0   \n",
      "\n",
      "     cabin_B  cabin_C  ...  cabin_G  cabin_N  embarked_C  embarked_Q  \\\n",
      "866        0        0  ...        0        1           0           0   \n",
      "622        0        0  ...        0        1           0           0   \n",
      "933        0        0  ...        0        1           0           0   \n",
      "494        0        0  ...        0        1           1           0   \n",
      "680        0        0  ...        0        1           1           0   \n",
      "\n",
      "     embarked_S  fs_a  fs_b  fs_c  sex_female  sex_male  \n",
      "866           1     1     0     0           1         0  \n",
      "622           1     0     0     1           0         1  \n",
      "933           1     0     1     0           0         1  \n",
      "494           0     0     1     0           1         0  \n",
      "680           0     1     0     0           0         1  \n",
      "\n",
      "[5 rows x 23 columns]\n",
      "x_test        age  sibsp  parch     fare  pclass_1.0  pclass_2.0  pclass_3.0  \\\n",
      "1307  27.0    0.0    0.0   7.2250           0           0           1   \n",
      "876    NaN    0.0    0.0   7.8958           0           0           1   \n",
      "701   17.0    0.0    0.0   8.6625           0           0           1   \n",
      "86    51.0    0.0    0.0  26.5500           1           0           0   \n",
      "1195   NaN    0.0    0.0   7.7500           0           0           1   \n",
      "\n",
      "      cabin_A  cabin_B  cabin_C  ...  cabin_G  cabin_N  embarked_C  \\\n",
      "1307        0        0        0  ...        0        1           1   \n",
      "876         0        0        0  ...        0        1           0   \n",
      "701         0        0        0  ...        0        1           0   \n",
      "86          0        0        0  ...        0        0           0   \n",
      "1195        0        0        0  ...        0        1           0   \n",
      "\n",
      "      embarked_Q  embarked_S  fs_a  fs_b  fs_c  sex_female  sex_male  \n",
      "1307           0           0     1     0     0           0         1  \n",
      "876            0           1     1     0     0           0         1  \n",
      "701            0           1     1     0     0           0         1  \n",
      "86             0           1     1     0     0           0         1  \n",
      "1195           1           0     1     0     0           0         1  \n",
      "\n",
      "[5 rows x 23 columns]\n",
      "x_valid        age  sibsp  parch     fare  pclass_1.0  pclass_2.0  pclass_3.0  \\\n",
      "771   19.0    0.0    0.0   7.8792           0           0           1   \n",
      "985   24.0    0.0    0.0   7.1417           0           0           1   \n",
      "1064  39.0    0.0    0.0   7.9250           0           0           1   \n",
      "421   24.0    0.0    0.0  13.5000           0           1           0   \n",
      "320    NaN    0.0    0.0  35.5000           1           0           0   \n",
      "\n",
      "      cabin_A  cabin_B  cabin_C  ...  cabin_N  cabin_T  embarked_C  \\\n",
      "771         0        0        0  ...        1        0           0   \n",
      "985         0        0        0  ...        1        0           0   \n",
      "1064        0        0        0  ...        1        0           0   \n",
      "421         0        0        0  ...        1        0           0   \n",
      "320         0        0        1  ...        0        0           0   \n",
      "\n",
      "      embarked_Q  embarked_S  fs_a  fs_b  fs_c  sex_female  sex_male  \n",
      "771            1           0     1     0     0           1         0  \n",
      "985            0           1     1     0     0           0         1  \n",
      "1064           0           1     1     0     0           0         1  \n",
      "421            0           1     1     0     0           0         1  \n",
      "320            0           1     1     0     0           0         1  \n",
      "\n",
      "[5 rows x 24 columns]\n"
     ]
    }
   ],
   "source": [
    "####################\n",
    "## Your code here ##\n",
    "####################\n",
    "target_col = ['pclass', 'cabin','embarked', 'fs', 'sex']\n",
    "x_train = pd.get_dummies(x_train, columns = target_col)\n",
    "x_test = pd.get_dummies(x_test, columns = target_col)\n",
    "x_valid = pd.get_dummies(x_valid, columns = target_col)\n",
    "\n",
    "\n",
    "print(\"x_train\", x_train.head())\n",
    "print(\"x_test\", x_test.head())\n",
    "print(\"x_valid\", x_valid.head())\n",
    "\n"
   ]
  },
  {
   "cell_type": "markdown",
   "metadata": {
    "id": "Ed8itOdVItVd"
   },
   "source": [
    "# Q8. 다음 조건에 맞추어 의사결정나무들을 학습시키시오.\n",
    "-----------------------\n",
    "* max depth는 3으로 고정한다.\n",
    "* min samples leaf 1개짜리 나무부터 1개씩 늘려서 min samples leaf가 30개인 나무까지, 총 30개의 의사결정 나무를 학습시킨다.\n",
    "* 학습된 의사결정나무들은 trees 변수에 리스트로 담아둔다.\n",
    "-----------------------"
   ]
  },
  {
   "cell_type": "code",
   "execution_count": 16,
   "metadata": {},
   "outputs": [
    {
     "data": {
      "text/html": [
       "<div>\n",
       "<style scoped>\n",
       "    .dataframe tbody tr th:only-of-type {\n",
       "        vertical-align: middle;\n",
       "    }\n",
       "\n",
       "    .dataframe tbody tr th {\n",
       "        vertical-align: top;\n",
       "    }\n",
       "\n",
       "    .dataframe thead th {\n",
       "        text-align: right;\n",
       "    }\n",
       "</style>\n",
       "<table border=\"1\" class=\"dataframe\">\n",
       "  <thead>\n",
       "    <tr style=\"text-align: right;\">\n",
       "      <th></th>\n",
       "      <th>age</th>\n",
       "      <th>sibsp</th>\n",
       "      <th>parch</th>\n",
       "      <th>fare</th>\n",
       "      <th>pclass_1.0</th>\n",
       "      <th>pclass_2.0</th>\n",
       "      <th>pclass_3.0</th>\n",
       "      <th>cabin_A</th>\n",
       "      <th>cabin_B</th>\n",
       "      <th>cabin_C</th>\n",
       "      <th>...</th>\n",
       "      <th>cabin_G</th>\n",
       "      <th>cabin_N</th>\n",
       "      <th>embarked_C</th>\n",
       "      <th>embarked_Q</th>\n",
       "      <th>embarked_S</th>\n",
       "      <th>fs_a</th>\n",
       "      <th>fs_b</th>\n",
       "      <th>fs_c</th>\n",
       "      <th>sex_female</th>\n",
       "      <th>sex_male</th>\n",
       "    </tr>\n",
       "  </thead>\n",
       "  <tbody>\n",
       "    <tr>\n",
       "      <th>count</th>\n",
       "      <td>627.000000</td>\n",
       "      <td>785.000000</td>\n",
       "      <td>785.000000</td>\n",
       "      <td>784.000000</td>\n",
       "      <td>785.000000</td>\n",
       "      <td>785.000000</td>\n",
       "      <td>785.000000</td>\n",
       "      <td>785.000000</td>\n",
       "      <td>785.000000</td>\n",
       "      <td>785.000000</td>\n",
       "      <td>...</td>\n",
       "      <td>785.000000</td>\n",
       "      <td>785.000000</td>\n",
       "      <td>785.000000</td>\n",
       "      <td>785.000000</td>\n",
       "      <td>785.000000</td>\n",
       "      <td>785.000000</td>\n",
       "      <td>785.000000</td>\n",
       "      <td>785.000000</td>\n",
       "      <td>785.000000</td>\n",
       "      <td>785.000000</td>\n",
       "    </tr>\n",
       "    <tr>\n",
       "      <th>mean</th>\n",
       "      <td>29.887826</td>\n",
       "      <td>0.509554</td>\n",
       "      <td>0.384713</td>\n",
       "      <td>33.090832</td>\n",
       "      <td>0.256051</td>\n",
       "      <td>0.205096</td>\n",
       "      <td>0.538854</td>\n",
       "      <td>0.019108</td>\n",
       "      <td>0.048408</td>\n",
       "      <td>0.077707</td>\n",
       "      <td>...</td>\n",
       "      <td>0.002548</td>\n",
       "      <td>0.782166</td>\n",
       "      <td>0.200000</td>\n",
       "      <td>0.112102</td>\n",
       "      <td>0.685350</td>\n",
       "      <td>0.787261</td>\n",
       "      <td>0.165605</td>\n",
       "      <td>0.047134</td>\n",
       "      <td>0.352866</td>\n",
       "      <td>0.647134</td>\n",
       "    </tr>\n",
       "    <tr>\n",
       "      <th>std</th>\n",
       "      <td>14.780316</td>\n",
       "      <td>1.054738</td>\n",
       "      <td>0.904789</td>\n",
       "      <td>48.274392</td>\n",
       "      <td>0.436729</td>\n",
       "      <td>0.404029</td>\n",
       "      <td>0.498806</td>\n",
       "      <td>0.136993</td>\n",
       "      <td>0.214763</td>\n",
       "      <td>0.267881</td>\n",
       "      <td>...</td>\n",
       "      <td>0.050443</td>\n",
       "      <td>0.413037</td>\n",
       "      <td>0.400255</td>\n",
       "      <td>0.315693</td>\n",
       "      <td>0.464672</td>\n",
       "      <td>0.409505</td>\n",
       "      <td>0.371963</td>\n",
       "      <td>0.212060</td>\n",
       "      <td>0.478166</td>\n",
       "      <td>0.478166</td>\n",
       "    </tr>\n",
       "    <tr>\n",
       "      <th>min</th>\n",
       "      <td>0.166700</td>\n",
       "      <td>0.000000</td>\n",
       "      <td>0.000000</td>\n",
       "      <td>0.000000</td>\n",
       "      <td>0.000000</td>\n",
       "      <td>0.000000</td>\n",
       "      <td>0.000000</td>\n",
       "      <td>0.000000</td>\n",
       "      <td>0.000000</td>\n",
       "      <td>0.000000</td>\n",
       "      <td>...</td>\n",
       "      <td>0.000000</td>\n",
       "      <td>0.000000</td>\n",
       "      <td>0.000000</td>\n",
       "      <td>0.000000</td>\n",
       "      <td>0.000000</td>\n",
       "      <td>0.000000</td>\n",
       "      <td>0.000000</td>\n",
       "      <td>0.000000</td>\n",
       "      <td>0.000000</td>\n",
       "      <td>0.000000</td>\n",
       "    </tr>\n",
       "    <tr>\n",
       "      <th>25%</th>\n",
       "      <td>21.000000</td>\n",
       "      <td>0.000000</td>\n",
       "      <td>0.000000</td>\n",
       "      <td>7.895800</td>\n",
       "      <td>0.000000</td>\n",
       "      <td>0.000000</td>\n",
       "      <td>0.000000</td>\n",
       "      <td>0.000000</td>\n",
       "      <td>0.000000</td>\n",
       "      <td>0.000000</td>\n",
       "      <td>...</td>\n",
       "      <td>0.000000</td>\n",
       "      <td>1.000000</td>\n",
       "      <td>0.000000</td>\n",
       "      <td>0.000000</td>\n",
       "      <td>0.000000</td>\n",
       "      <td>1.000000</td>\n",
       "      <td>0.000000</td>\n",
       "      <td>0.000000</td>\n",
       "      <td>0.000000</td>\n",
       "      <td>0.000000</td>\n",
       "    </tr>\n",
       "    <tr>\n",
       "      <th>50%</th>\n",
       "      <td>28.000000</td>\n",
       "      <td>0.000000</td>\n",
       "      <td>0.000000</td>\n",
       "      <td>14.477100</td>\n",
       "      <td>0.000000</td>\n",
       "      <td>0.000000</td>\n",
       "      <td>1.000000</td>\n",
       "      <td>0.000000</td>\n",
       "      <td>0.000000</td>\n",
       "      <td>0.000000</td>\n",
       "      <td>...</td>\n",
       "      <td>0.000000</td>\n",
       "      <td>1.000000</td>\n",
       "      <td>0.000000</td>\n",
       "      <td>0.000000</td>\n",
       "      <td>1.000000</td>\n",
       "      <td>1.000000</td>\n",
       "      <td>0.000000</td>\n",
       "      <td>0.000000</td>\n",
       "      <td>0.000000</td>\n",
       "      <td>1.000000</td>\n",
       "    </tr>\n",
       "    <tr>\n",
       "      <th>75%</th>\n",
       "      <td>39.000000</td>\n",
       "      <td>1.000000</td>\n",
       "      <td>0.000000</td>\n",
       "      <td>31.275000</td>\n",
       "      <td>1.000000</td>\n",
       "      <td>0.000000</td>\n",
       "      <td>1.000000</td>\n",
       "      <td>0.000000</td>\n",
       "      <td>0.000000</td>\n",
       "      <td>0.000000</td>\n",
       "      <td>...</td>\n",
       "      <td>0.000000</td>\n",
       "      <td>1.000000</td>\n",
       "      <td>0.000000</td>\n",
       "      <td>0.000000</td>\n",
       "      <td>1.000000</td>\n",
       "      <td>1.000000</td>\n",
       "      <td>0.000000</td>\n",
       "      <td>0.000000</td>\n",
       "      <td>1.000000</td>\n",
       "      <td>1.000000</td>\n",
       "    </tr>\n",
       "    <tr>\n",
       "      <th>max</th>\n",
       "      <td>80.000000</td>\n",
       "      <td>8.000000</td>\n",
       "      <td>9.000000</td>\n",
       "      <td>512.329200</td>\n",
       "      <td>1.000000</td>\n",
       "      <td>1.000000</td>\n",
       "      <td>1.000000</td>\n",
       "      <td>1.000000</td>\n",
       "      <td>1.000000</td>\n",
       "      <td>1.000000</td>\n",
       "      <td>...</td>\n",
       "      <td>1.000000</td>\n",
       "      <td>1.000000</td>\n",
       "      <td>1.000000</td>\n",
       "      <td>1.000000</td>\n",
       "      <td>1.000000</td>\n",
       "      <td>1.000000</td>\n",
       "      <td>1.000000</td>\n",
       "      <td>1.000000</td>\n",
       "      <td>1.000000</td>\n",
       "      <td>1.000000</td>\n",
       "    </tr>\n",
       "  </tbody>\n",
       "</table>\n",
       "<p>8 rows × 23 columns</p>\n",
       "</div>"
      ],
      "text/plain": [
       "              age       sibsp       parch        fare  pclass_1.0  pclass_2.0  \\\n",
       "count  627.000000  785.000000  785.000000  784.000000  785.000000  785.000000   \n",
       "mean    29.887826    0.509554    0.384713   33.090832    0.256051    0.205096   \n",
       "std     14.780316    1.054738    0.904789   48.274392    0.436729    0.404029   \n",
       "min      0.166700    0.000000    0.000000    0.000000    0.000000    0.000000   \n",
       "25%     21.000000    0.000000    0.000000    7.895800    0.000000    0.000000   \n",
       "50%     28.000000    0.000000    0.000000   14.477100    0.000000    0.000000   \n",
       "75%     39.000000    1.000000    0.000000   31.275000    1.000000    0.000000   \n",
       "max     80.000000    8.000000    9.000000  512.329200    1.000000    1.000000   \n",
       "\n",
       "       pclass_3.0     cabin_A     cabin_B     cabin_C  ...     cabin_G  \\\n",
       "count  785.000000  785.000000  785.000000  785.000000  ...  785.000000   \n",
       "mean     0.538854    0.019108    0.048408    0.077707  ...    0.002548   \n",
       "std      0.498806    0.136993    0.214763    0.267881  ...    0.050443   \n",
       "min      0.000000    0.000000    0.000000    0.000000  ...    0.000000   \n",
       "25%      0.000000    0.000000    0.000000    0.000000  ...    0.000000   \n",
       "50%      1.000000    0.000000    0.000000    0.000000  ...    0.000000   \n",
       "75%      1.000000    0.000000    0.000000    0.000000  ...    0.000000   \n",
       "max      1.000000    1.000000    1.000000    1.000000  ...    1.000000   \n",
       "\n",
       "          cabin_N  embarked_C  embarked_Q  embarked_S        fs_a        fs_b  \\\n",
       "count  785.000000  785.000000  785.000000  785.000000  785.000000  785.000000   \n",
       "mean     0.782166    0.200000    0.112102    0.685350    0.787261    0.165605   \n",
       "std      0.413037    0.400255    0.315693    0.464672    0.409505    0.371963   \n",
       "min      0.000000    0.000000    0.000000    0.000000    0.000000    0.000000   \n",
       "25%      1.000000    0.000000    0.000000    0.000000    1.000000    0.000000   \n",
       "50%      1.000000    0.000000    0.000000    1.000000    1.000000    0.000000   \n",
       "75%      1.000000    0.000000    0.000000    1.000000    1.000000    0.000000   \n",
       "max      1.000000    1.000000    1.000000    1.000000    1.000000    1.000000   \n",
       "\n",
       "             fs_c  sex_female    sex_male  \n",
       "count  785.000000  785.000000  785.000000  \n",
       "mean     0.047134    0.352866    0.647134  \n",
       "std      0.212060    0.478166    0.478166  \n",
       "min      0.000000    0.000000    0.000000  \n",
       "25%      0.000000    0.000000    0.000000  \n",
       "50%      0.000000    0.000000    1.000000  \n",
       "75%      0.000000    1.000000    1.000000  \n",
       "max      1.000000    1.000000    1.000000  \n",
       "\n",
       "[8 rows x 23 columns]"
      ]
     },
     "execution_count": 16,
     "metadata": {},
     "output_type": "execute_result"
    }
   ],
   "source": [
    "x_train.describe()"
   ]
  },
  {
   "cell_type": "code",
   "execution_count": 17,
   "metadata": {},
   "outputs": [
    {
     "data": {
      "text/plain": [
       "count     785\n",
       "unique      2\n",
       "top         0\n",
       "freq      487\n",
       "Name: survived, dtype: object"
      ]
     },
     "execution_count": 17,
     "metadata": {},
     "output_type": "execute_result"
    }
   ],
   "source": [
    "y_train.describe()"
   ]
  },
  {
   "cell_type": "code",
   "execution_count": 19,
   "metadata": {
    "id": "3vwCdImWJFOq",
    "scrolled": true
   },
   "outputs": [
    {
     "ename": "ValueError",
     "evalue": "Input contains NaN, infinity or a value too large for dtype('float32').",
     "output_type": "error",
     "traceback": [
      "\u001b[0;31m---------------------------------------------------------------------------\u001b[0m",
      "\u001b[0;31mValueError\u001b[0m                                Traceback (most recent call last)",
      "\u001b[0;32m<ipython-input-19-7b29328b23a3>\u001b[0m in \u001b[0;36m<module>\u001b[0;34m\u001b[0m\n\u001b[1;32m      7\u001b[0m \u001b[0;32mfor\u001b[0m \u001b[0mi\u001b[0m \u001b[0;32min\u001b[0m \u001b[0mrange\u001b[0m\u001b[0;34m(\u001b[0m\u001b[0;36m1\u001b[0m\u001b[0;34m,\u001b[0m \u001b[0;36m31\u001b[0m\u001b[0;34m)\u001b[0m\u001b[0;34m:\u001b[0m\u001b[0;34m\u001b[0m\u001b[0;34m\u001b[0m\u001b[0m\n\u001b[1;32m      8\u001b[0m     \u001b[0mrf\u001b[0m \u001b[0;34m=\u001b[0m \u001b[0mRandomForestClassifier\u001b[0m\u001b[0;34m(\u001b[0m\u001b[0mmin_samples_leaf\u001b[0m \u001b[0;34m=\u001b[0m \u001b[0mi\u001b[0m\u001b[0;34m,\u001b[0m \u001b[0mmax_depth\u001b[0m\u001b[0;34m=\u001b[0m\u001b[0;36m3\u001b[0m\u001b[0;34m)\u001b[0m\u001b[0;34m\u001b[0m\u001b[0;34m\u001b[0m\u001b[0m\n\u001b[0;32m----> 9\u001b[0;31m     \u001b[0mrf\u001b[0m\u001b[0;34m.\u001b[0m\u001b[0mfit\u001b[0m\u001b[0;34m(\u001b[0m\u001b[0mx_train\u001b[0m\u001b[0;34m,\u001b[0m \u001b[0my_train\u001b[0m\u001b[0;34m)\u001b[0m\u001b[0;34m\u001b[0m\u001b[0;34m\u001b[0m\u001b[0m\n\u001b[0m\u001b[1;32m     10\u001b[0m     \u001b[0mtrees\u001b[0m\u001b[0;34m.\u001b[0m\u001b[0mappend\u001b[0m\u001b[0;34m(\u001b[0m\u001b[0mrf\u001b[0m\u001b[0;34m)\u001b[0m\u001b[0;34m\u001b[0m\u001b[0;34m\u001b[0m\u001b[0m\n",
      "\u001b[0;32m~/.local/lib/python3.6/site-packages/sklearn/ensemble/_forest.py\u001b[0m in \u001b[0;36mfit\u001b[0;34m(self, X, y, sample_weight)\u001b[0m\n\u001b[1;32m    303\u001b[0m             )\n\u001b[1;32m    304\u001b[0m         X, y = self._validate_data(X, y, multi_output=True,\n\u001b[0;32m--> 305\u001b[0;31m                                    accept_sparse=\"csc\", dtype=DTYPE)\n\u001b[0m\u001b[1;32m    306\u001b[0m         \u001b[0;32mif\u001b[0m \u001b[0msample_weight\u001b[0m \u001b[0;32mis\u001b[0m \u001b[0;32mnot\u001b[0m \u001b[0;32mNone\u001b[0m\u001b[0;34m:\u001b[0m\u001b[0;34m\u001b[0m\u001b[0;34m\u001b[0m\u001b[0m\n\u001b[1;32m    307\u001b[0m             \u001b[0msample_weight\u001b[0m \u001b[0;34m=\u001b[0m \u001b[0m_check_sample_weight\u001b[0m\u001b[0;34m(\u001b[0m\u001b[0msample_weight\u001b[0m\u001b[0;34m,\u001b[0m \u001b[0mX\u001b[0m\u001b[0;34m)\u001b[0m\u001b[0;34m\u001b[0m\u001b[0;34m\u001b[0m\u001b[0m\n",
      "\u001b[0;32m~/.local/lib/python3.6/site-packages/sklearn/base.py\u001b[0m in \u001b[0;36m_validate_data\u001b[0;34m(self, X, y, reset, validate_separately, **check_params)\u001b[0m\n\u001b[1;32m    431\u001b[0m                 \u001b[0my\u001b[0m \u001b[0;34m=\u001b[0m \u001b[0mcheck_array\u001b[0m\u001b[0;34m(\u001b[0m\u001b[0my\u001b[0m\u001b[0;34m,\u001b[0m \u001b[0;34m**\u001b[0m\u001b[0mcheck_y_params\u001b[0m\u001b[0;34m)\u001b[0m\u001b[0;34m\u001b[0m\u001b[0;34m\u001b[0m\u001b[0m\n\u001b[1;32m    432\u001b[0m             \u001b[0;32melse\u001b[0m\u001b[0;34m:\u001b[0m\u001b[0;34m\u001b[0m\u001b[0;34m\u001b[0m\u001b[0m\n\u001b[0;32m--> 433\u001b[0;31m                 \u001b[0mX\u001b[0m\u001b[0;34m,\u001b[0m \u001b[0my\u001b[0m \u001b[0;34m=\u001b[0m \u001b[0mcheck_X_y\u001b[0m\u001b[0;34m(\u001b[0m\u001b[0mX\u001b[0m\u001b[0;34m,\u001b[0m \u001b[0my\u001b[0m\u001b[0;34m,\u001b[0m \u001b[0;34m**\u001b[0m\u001b[0mcheck_params\u001b[0m\u001b[0;34m)\u001b[0m\u001b[0;34m\u001b[0m\u001b[0;34m\u001b[0m\u001b[0m\n\u001b[0m\u001b[1;32m    434\u001b[0m             \u001b[0mout\u001b[0m \u001b[0;34m=\u001b[0m \u001b[0mX\u001b[0m\u001b[0;34m,\u001b[0m \u001b[0my\u001b[0m\u001b[0;34m\u001b[0m\u001b[0;34m\u001b[0m\u001b[0m\n\u001b[1;32m    435\u001b[0m \u001b[0;34m\u001b[0m\u001b[0m\n",
      "\u001b[0;32m~/.local/lib/python3.6/site-packages/sklearn/utils/validation.py\u001b[0m in \u001b[0;36minner_f\u001b[0;34m(*args, **kwargs)\u001b[0m\n\u001b[1;32m     61\u001b[0m             \u001b[0mextra_args\u001b[0m \u001b[0;34m=\u001b[0m \u001b[0mlen\u001b[0m\u001b[0;34m(\u001b[0m\u001b[0margs\u001b[0m\u001b[0;34m)\u001b[0m \u001b[0;34m-\u001b[0m \u001b[0mlen\u001b[0m\u001b[0;34m(\u001b[0m\u001b[0mall_args\u001b[0m\u001b[0;34m)\u001b[0m\u001b[0;34m\u001b[0m\u001b[0;34m\u001b[0m\u001b[0m\n\u001b[1;32m     62\u001b[0m             \u001b[0;32mif\u001b[0m \u001b[0mextra_args\u001b[0m \u001b[0;34m<=\u001b[0m \u001b[0;36m0\u001b[0m\u001b[0;34m:\u001b[0m\u001b[0;34m\u001b[0m\u001b[0;34m\u001b[0m\u001b[0m\n\u001b[0;32m---> 63\u001b[0;31m                 \u001b[0;32mreturn\u001b[0m \u001b[0mf\u001b[0m\u001b[0;34m(\u001b[0m\u001b[0;34m*\u001b[0m\u001b[0margs\u001b[0m\u001b[0;34m,\u001b[0m \u001b[0;34m**\u001b[0m\u001b[0mkwargs\u001b[0m\u001b[0;34m)\u001b[0m\u001b[0;34m\u001b[0m\u001b[0;34m\u001b[0m\u001b[0m\n\u001b[0m\u001b[1;32m     64\u001b[0m \u001b[0;34m\u001b[0m\u001b[0m\n\u001b[1;32m     65\u001b[0m             \u001b[0;31m# extra_args > 0\u001b[0m\u001b[0;34m\u001b[0m\u001b[0;34m\u001b[0m\u001b[0;34m\u001b[0m\u001b[0m\n",
      "\u001b[0;32m~/.local/lib/python3.6/site-packages/sklearn/utils/validation.py\u001b[0m in \u001b[0;36mcheck_X_y\u001b[0;34m(X, y, accept_sparse, accept_large_sparse, dtype, order, copy, force_all_finite, ensure_2d, allow_nd, multi_output, ensure_min_samples, ensure_min_features, y_numeric, estimator)\u001b[0m\n\u001b[1;32m    876\u001b[0m                     \u001b[0mensure_min_samples\u001b[0m\u001b[0;34m=\u001b[0m\u001b[0mensure_min_samples\u001b[0m\u001b[0;34m,\u001b[0m\u001b[0;34m\u001b[0m\u001b[0;34m\u001b[0m\u001b[0m\n\u001b[1;32m    877\u001b[0m                     \u001b[0mensure_min_features\u001b[0m\u001b[0;34m=\u001b[0m\u001b[0mensure_min_features\u001b[0m\u001b[0;34m,\u001b[0m\u001b[0;34m\u001b[0m\u001b[0;34m\u001b[0m\u001b[0m\n\u001b[0;32m--> 878\u001b[0;31m                     estimator=estimator)\n\u001b[0m\u001b[1;32m    879\u001b[0m     \u001b[0;32mif\u001b[0m \u001b[0mmulti_output\u001b[0m\u001b[0;34m:\u001b[0m\u001b[0;34m\u001b[0m\u001b[0;34m\u001b[0m\u001b[0m\n\u001b[1;32m    880\u001b[0m         y = check_array(y, accept_sparse='csr', force_all_finite=True,\n",
      "\u001b[0;32m~/.local/lib/python3.6/site-packages/sklearn/utils/validation.py\u001b[0m in \u001b[0;36minner_f\u001b[0;34m(*args, **kwargs)\u001b[0m\n\u001b[1;32m     61\u001b[0m             \u001b[0mextra_args\u001b[0m \u001b[0;34m=\u001b[0m \u001b[0mlen\u001b[0m\u001b[0;34m(\u001b[0m\u001b[0margs\u001b[0m\u001b[0;34m)\u001b[0m \u001b[0;34m-\u001b[0m \u001b[0mlen\u001b[0m\u001b[0;34m(\u001b[0m\u001b[0mall_args\u001b[0m\u001b[0;34m)\u001b[0m\u001b[0;34m\u001b[0m\u001b[0;34m\u001b[0m\u001b[0m\n\u001b[1;32m     62\u001b[0m             \u001b[0;32mif\u001b[0m \u001b[0mextra_args\u001b[0m \u001b[0;34m<=\u001b[0m \u001b[0;36m0\u001b[0m\u001b[0;34m:\u001b[0m\u001b[0;34m\u001b[0m\u001b[0;34m\u001b[0m\u001b[0m\n\u001b[0;32m---> 63\u001b[0;31m                 \u001b[0;32mreturn\u001b[0m \u001b[0mf\u001b[0m\u001b[0;34m(\u001b[0m\u001b[0;34m*\u001b[0m\u001b[0margs\u001b[0m\u001b[0;34m,\u001b[0m \u001b[0;34m**\u001b[0m\u001b[0mkwargs\u001b[0m\u001b[0;34m)\u001b[0m\u001b[0;34m\u001b[0m\u001b[0;34m\u001b[0m\u001b[0m\n\u001b[0m\u001b[1;32m     64\u001b[0m \u001b[0;34m\u001b[0m\u001b[0m\n\u001b[1;32m     65\u001b[0m             \u001b[0;31m# extra_args > 0\u001b[0m\u001b[0;34m\u001b[0m\u001b[0;34m\u001b[0m\u001b[0;34m\u001b[0m\u001b[0m\n",
      "\u001b[0;32m~/.local/lib/python3.6/site-packages/sklearn/utils/validation.py\u001b[0m in \u001b[0;36mcheck_array\u001b[0;34m(array, accept_sparse, accept_large_sparse, dtype, order, copy, force_all_finite, ensure_2d, allow_nd, ensure_min_samples, ensure_min_features, estimator)\u001b[0m\n\u001b[1;32m    719\u001b[0m         \u001b[0;32mif\u001b[0m \u001b[0mforce_all_finite\u001b[0m\u001b[0;34m:\u001b[0m\u001b[0;34m\u001b[0m\u001b[0;34m\u001b[0m\u001b[0m\n\u001b[1;32m    720\u001b[0m             _assert_all_finite(array,\n\u001b[0;32m--> 721\u001b[0;31m                                allow_nan=force_all_finite == 'allow-nan')\n\u001b[0m\u001b[1;32m    722\u001b[0m \u001b[0;34m\u001b[0m\u001b[0m\n\u001b[1;32m    723\u001b[0m     \u001b[0;32mif\u001b[0m \u001b[0mensure_min_samples\u001b[0m \u001b[0;34m>\u001b[0m \u001b[0;36m0\u001b[0m\u001b[0;34m:\u001b[0m\u001b[0;34m\u001b[0m\u001b[0;34m\u001b[0m\u001b[0m\n",
      "\u001b[0;32m~/.local/lib/python3.6/site-packages/sklearn/utils/validation.py\u001b[0m in \u001b[0;36m_assert_all_finite\u001b[0;34m(X, allow_nan, msg_dtype)\u001b[0m\n\u001b[1;32m    104\u001b[0m                     \u001b[0mmsg_err\u001b[0m\u001b[0;34m.\u001b[0m\u001b[0mformat\u001b[0m\u001b[0;34m\u001b[0m\u001b[0;34m\u001b[0m\u001b[0m\n\u001b[1;32m    105\u001b[0m                     (type_err,\n\u001b[0;32m--> 106\u001b[0;31m                      msg_dtype if msg_dtype is not None else X.dtype)\n\u001b[0m\u001b[1;32m    107\u001b[0m             )\n\u001b[1;32m    108\u001b[0m     \u001b[0;31m# for object dtype data, we only check for NaNs (GH-13254)\u001b[0m\u001b[0;34m\u001b[0m\u001b[0;34m\u001b[0m\u001b[0;34m\u001b[0m\u001b[0m\n",
      "\u001b[0;31mValueError\u001b[0m: Input contains NaN, infinity or a value too large for dtype('float32')."
     ]
    }
   ],
   "source": [
    "####################\n",
    "## Your code here ##\n",
    "####################\n",
    "from sklearn.ensemble import RandomForestClassifier\n",
    "\n",
    "trees = []\n",
    "for i in range(1, 31):\n",
    "    rf = RandomForestClassifier(min_samples_leaf = i, max_depth=3)\n",
    "    rf.fit(x_train, y_train)\n",
    "    trees.append(rf)"
   ]
  },
  {
   "cell_type": "markdown",
   "metadata": {
    "id": "U9se0W3HNZl4"
   },
   "source": [
    "# Q9. 학습된 의사결정나무들의 성능을 벨리데이션셋에서 시각화 하시오.\n",
    "-------------------\n",
    "* 벨리데이션 셋에서 accuracy를 계산하여 시각화 한다.\n",
    "* x축은 min sample leaf의 수, y축은 accuracy\n",
    "* line chart를 그린다.\n",
    "* grid line을 추가한다.\n",
    "--------------------"
   ]
  },
  {
   "cell_type": "code",
   "execution_count": null,
   "metadata": {
    "id": "H5wWaaSeOm06"
   },
   "outputs": [],
   "source": [
    "####################\n",
    "## Your code here ##\n",
    "####################\n",
    "\n",
    "accs = []\n",
    "for tree in trees:\n",
    "    value = tree.score(x_vlalid, y_valid)\n",
    "    accs.append(value)\n",
    "    \n",
    "    "
   ]
  },
  {
   "cell_type": "code",
   "execution_count": null,
   "metadata": {},
   "outputs": [],
   "source": [
    "plt.plot(list(range(1,31), accs)\n",
    "plt.show()"
   ]
  },
  {
   "cell_type": "markdown",
   "metadata": {
    "id": "tId31K0HPhdh"
   },
   "source": [
    "# Q10. Q9를 참고하여 가장 성능 좋은 (동일 성능이라면 가장 min sample leaf가 큰) 나무를 골라 테스트셋 위에서 평가하시오.\n",
    "----------------\n",
    "1. accuracy를 주석으로 명시하시오.\n",
    "2. 1을 positive로 두었을 때, sensitivity를 주석으로 명시하시오.\n",
    "3. 1을 positive로 두었을 때, specificity를 주석으로 명시하시오."
   ]
  },
  {
   "cell_type": "code",
   "execution_count": null,
   "metadata": {
    "id": "m9CD7H_gQe48"
   },
   "outputs": [],
   "source": [
    "####################\n",
    "## Your code here ##\n",
    "####################\n",
    "\n"
   ]
  }
 ],
 "metadata": {
  "colab": {
   "authorship_tag": "ABX9TyPVUD3NfCqi7VETp+nKEs7w",
   "collapsed_sections": [],
   "name": "Problem_02(머신러닝).ipynb",
   "provenance": []
  },
  "kernelspec": {
   "display_name": "Python 3",
   "language": "python",
   "name": "python3"
  },
  "language_info": {
   "codemirror_mode": {
    "name": "ipython",
    "version": 3
   },
   "file_extension": ".py",
   "mimetype": "text/x-python",
   "name": "python",
   "nbconvert_exporter": "python",
   "pygments_lexer": "ipython3",
   "version": "3.6.9"
  }
 },
 "nbformat": 4,
 "nbformat_minor": 1
}
