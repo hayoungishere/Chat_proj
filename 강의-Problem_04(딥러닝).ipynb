{
  "nbformat": 4,
  "nbformat_minor": 0,
  "metadata": {
    "colab": {
      "name": "(sol)Problem_04(딥러닝).ipynb의 사본",
      "provenance": [],
      "collapsed_sections": []
    },
    "kernelspec": {
      "display_name": "Python 3",
      "language": "python",
      "name": "python3"
    },
    "language_info": {
      "codemirror_mode": {
        "name": "ipython",
        "version": 3
      },
      "file_extension": ".py",
      "mimetype": "text/x-python",
      "name": "python",
      "nbconvert_exporter": "python",
      "pygments_lexer": "ipython3",
      "version": "3.6.9"
    },
    "accelerator": "GPU"
  },
  "cells": [
    {
      "cell_type": "markdown",
      "metadata": {
        "id": "Scb4NQe2zCPP"
      },
      "source": [
        "# **Digit 데이터를 이용한 <span style=\"color:darkgreen\">뉴럴네트워크</span> 문제**\n",
        "---"
      ]
    },
    {
      "cell_type": "markdown",
      "metadata": {
        "id": "jyVZUOyPZlkN"
      },
      "source": [
        "> **<span style=\"color:red\">다음 문항을 풀기 전에 </span>아래 코드를 실행하시오.**<br>\n",
        "> 반드시 코드와 주석을 읽고 문제를 푸시오. <br>\n",
        "> 출력된 데이터 설명을 **반드시** 읽고 문제를 푸시오.\n",
        "\n",
        "---\n",
        "\n"
      ]
    },
    {
      "cell_type": "code",
      "metadata": {
        "colab": {
          "base_uri": "https://localhost:8080/"
        },
        "id": "fiSDKfH9abY7",
        "outputId": "36f0efde-15a9-47e4-fe48-c66284b23795"
      },
      "source": [
        "import numpy as np\n",
        "import tensorflow as tf\n",
        "from tensorflow import keras\n",
        "import matplotlib.pyplot as plt\n",
        "from sklearn.datasets import load_digits\n",
        "\n",
        "digits = load_digits()\n",
        "\n",
        "x = digits.images # 인풋으로 사용할 데이터.\n",
        "y = digits.target # 아웃풋으로 사용할 데이터.\n",
        "\n",
        "print(digits.DESCR)"
      ],
      "execution_count": null,
      "outputs": [
        {
          "output_type": "stream",
          "name": "stdout",
          "text": [
            ".. _digits_dataset:\n",
            "\n",
            "Optical recognition of handwritten digits dataset\n",
            "--------------------------------------------------\n",
            "\n",
            "**Data Set Characteristics:**\n",
            "\n",
            "    :Number of Instances: 5620\n",
            "    :Number of Attributes: 64\n",
            "    :Attribute Information: 8x8 image of integer pixels in the range 0..16.\n",
            "    :Missing Attribute Values: None\n",
            "    :Creator: E. Alpaydin (alpaydin '@' boun.edu.tr)\n",
            "    :Date: July; 1998\n",
            "\n",
            "This is a copy of the test set of the UCI ML hand-written digits datasets\n",
            "https://archive.ics.uci.edu/ml/datasets/Optical+Recognition+of+Handwritten+Digits\n",
            "\n",
            "The data set contains images of hand-written digits: 10 classes where\n",
            "each class refers to a digit.\n",
            "\n",
            "Preprocessing programs made available by NIST were used to extract\n",
            "normalized bitmaps of handwritten digits from a preprinted form. From a\n",
            "total of 43 people, 30 contributed to the training set and different 13\n",
            "to the test set. 32x32 bitmaps are divided into nonoverlapping blocks of\n",
            "4x4 and the number of on pixels are counted in each block. This generates\n",
            "an input matrix of 8x8 where each element is an integer in the range\n",
            "0..16. This reduces dimensionality and gives invariance to small\n",
            "distortions.\n",
            "\n",
            "For info on NIST preprocessing routines, see M. D. Garris, J. L. Blue, G.\n",
            "T. Candela, D. L. Dimmick, J. Geist, P. J. Grother, S. A. Janet, and C.\n",
            "L. Wilson, NIST Form-Based Handprint Recognition System, NISTIR 5469,\n",
            "1994.\n",
            "\n",
            ".. topic:: References\n",
            "\n",
            "  - C. Kaynak (1995) Methods of Combining Multiple Classifiers and Their\n",
            "    Applications to Handwritten Digit Recognition, MSc Thesis, Institute of\n",
            "    Graduate Studies in Science and Engineering, Bogazici University.\n",
            "  - E. Alpaydin, C. Kaynak (1998) Cascading Classifiers, Kybernetika.\n",
            "  - Ken Tang and Ponnuthurai N. Suganthan and Xi Yao and A. Kai Qin.\n",
            "    Linear dimensionalityreduction using relevance weighted LDA. School of\n",
            "    Electrical and Electronic Engineering Nanyang Technological University.\n",
            "    2005.\n",
            "  - Claudio Gentile. A New Approximate Maximal Margin Classification\n",
            "    Algorithm. NIPS. 2000.\n"
          ]
        }
      ]
    },
    {
      "cell_type": "code",
      "metadata": {
        "id": "Dq9Hd0ukSxIc",
        "colab": {
          "base_uri": "https://localhost:8080/"
        },
        "outputId": "f28d6ddf-ffda-44cb-872a-6d18c5a273aa"
      },
      "source": [
        "x.shape"
      ],
      "execution_count": null,
      "outputs": [
        {
          "output_type": "execute_result",
          "data": {
            "text/plain": [
              "(1797, 8, 8)"
            ]
          },
          "metadata": {},
          "execution_count": 3
        }
      ]
    },
    {
      "cell_type": "code",
      "metadata": {
        "id": "yJN4YuM-Sz6h",
        "colab": {
          "base_uri": "https://localhost:8080/"
        },
        "outputId": "4b46d13e-9ffe-44be-80bf-20151aad7716"
      },
      "source": [
        "y.shape"
      ],
      "execution_count": null,
      "outputs": [
        {
          "output_type": "execute_result",
          "data": {
            "text/plain": [
              "(1797,)"
            ]
          },
          "metadata": {},
          "execution_count": 4
        }
      ]
    },
    {
      "cell_type": "code",
      "metadata": {
        "id": "JjJw5R69TL7g",
        "colab": {
          "base_uri": "https://localhost:8080/",
          "height": 282
        },
        "outputId": "d4fec745-e9fb-4a80-fd0d-c12a63256192"
      },
      "source": [
        "from matplotlib import pyplot as plt\n",
        "plt.imshow(x[100], cmap='gray')\n",
        "plt.show()\n",
        "print(y[100])"
      ],
      "execution_count": null,
      "outputs": [
        {
          "output_type": "display_data",
          "data": {
            "image/png": "[encoded data removed]",
            "text/plain": [
              "<Figure size 432x288 with 1 Axes>"
            ]
          },
          "metadata": {
            "needs_background": "light"
          }
        },
        {
          "output_type": "stream",
          "name": "stdout",
          "text": [
            "4\n"
          ]
        }
      ]
    },
    {
      "cell_type": "markdown",
      "metadata": {
        "id": "heKPp9gV0che"
      },
      "source": [
        "# Q1. 다음 조건에 맞추어 데이터를 분할하시오.\n",
        "---------------------------\n",
        "* 변수명 규칙 : x_train, x_test, y_train, y_test\n",
        "* train : test = 9 : 1\n",
        "* y의 클래스가 골고루 분할이 되도록 stratify하게 분할한다.\n",
        "* random state, seed등은 2021로 고정.\n",
        "---------------------------"
      ]
    },
    {
      "cell_type": "code",
      "metadata": {
        "id": "UaW-TZha1QFX"
      },
      "source": [
        "####################\n",
        "## your code here ##\n",
        "####################\n",
        "\n",
        "from sklearn.model_selection import train_test_split as tts\n",
        "\n",
        "x_train, x_test, y_train, y_test = tts(x, y, test_size = 0.1, stratify=y, random_state=2021)"
      ],
      "execution_count": null,
      "outputs": []
    },
    {
      "cell_type": "code",
      "metadata": {
        "id": "HS_lbVG5TsDH",
        "colab": {
          "base_uri": "https://localhost:8080/"
        },
        "outputId": "ef16a9c8-57ea-406c-ab41-cb3e349fe721"
      },
      "source": [
        "print(x_train.shape)\n",
        "print(x_test.shape)"
      ],
      "execution_count": null,
      "outputs": [
        {
          "output_type": "stream",
          "name": "stdout",
          "text": [
            "(1617, 8, 8)\n",
            "(180, 8, 8)\n"
          ]
        }
      ]
    },
    {
      "cell_type": "markdown",
      "metadata": {
        "id": "oviV2HIh1ePP"
      },
      "source": [
        "# Q2. 모든 x들을 min-max scaling 하시오.\n",
        "---------------------------\n",
        "* 모든 트레이닝 규칙은 트레이닝 셋을 이용하여 찾아낸다.\n",
        "* 제대로 스케일링 되었는지, 결과도 확인한다.\n",
        "---------------------------"
      ]
    },
    {
      "cell_type": "code",
      "metadata": {
        "id": "xk5q8Ema1ePR"
      },
      "source": [
        "####################\n",
        "## your code here ##\n",
        "####################\n",
        "\n",
        "max_ = x_train.max()\n",
        "min_ = x_train.min()\n",
        "\n",
        "x_train = ( x_train - min_ )/( max_ - min_ ) # pixel range 변화 : (0~16) -> (0~1)\n",
        "x_test =( x_test - min_ )/( max_ - min_ ) # pixel range 변화 : (0~16) -> (0~1)"
      ],
      "execution_count": null,
      "outputs": []
    },
    {
      "cell_type": "code",
      "metadata": {
        "id": "loxUUgb6UdzX",
        "colab": {
          "base_uri": "https://localhost:8080/"
        },
        "outputId": "9f0fb82c-673c-4539-ea84-81c8a3f4fde8"
      },
      "source": [
        "print('pixel max : ', max_, 'pixel min : ', min_)"
      ],
      "execution_count": null,
      "outputs": [
        {
          "output_type": "stream",
          "name": "stdout",
          "text": [
            "pixel max :  1.0 pixel min :  0.0\n"
          ]
        }
      ]
    },
    {
      "cell_type": "markdown",
      "metadata": {
        "id": "gnpStAuj2Gmu"
      },
      "source": [
        "# Q3. 실행할 때마다 트레이닝셋의 이미지 하나를 랜덤하게 시각화 하는 코드를 작성하시오.\n",
        "--------------------\n",
        "* 그 이미지가 어떤 클래스인지도 같이 출력하는 코드를 작성하시오.\n",
        "----------"
      ]
    },
    {
      "cell_type": "code",
      "metadata": {
        "colab": {
          "base_uri": "https://localhost:8080/",
          "height": 282
        },
        "id": "q_24UYjO2aju",
        "outputId": "c7ec2112-cf74-4ae4-d0db-bebe3a16283c"
      },
      "source": [
        "####################\n",
        "## your code here ##\n",
        "####################\n",
        "\n",
        "id = np.random.randint(0, len(x_train))\n",
        "\n",
        "print(f\"아래 이미지는 {y_train[id]}입니다.\")\n",
        "plt.imshow(x_train[id], cmap='Greys')\n",
        "plt.show()"
      ],
      "execution_count": null,
      "outputs": [
        {
          "output_type": "stream",
          "name": "stdout",
          "text": [
            "아래 이미지는 1입니다.\n"
          ]
        },
        {
          "output_type": "display_data",
          "data": {
            "image/png": "[encoded data removed]",
            "text/plain": [
              "<Figure size 432x288 with 1 Axes>"
            ]
          },
          "metadata": {
            "needs_background": "light"
          }
        }
      ]
    },
    {
      "cell_type": "markdown",
      "metadata": {
        "id": "9tf9hpt_21LC"
      },
      "source": [
        "# Q4. y들을 원핫인코딩 하시오.\n",
        "----------------\n",
        "* 모든 전처리 규칙은 트레이닝셋을 이용하여 찾는다.\n",
        "--------------"
      ]
    },
    {
      "cell_type": "code",
      "metadata": {
        "id": "2ujn3mJa3ISt"
      },
      "source": [
        "####################\n",
        "## your code here ##\n",
        "####################\n",
        "\n",
        "from tensorflow.keras.utils import to_categorical\n",
        "\n",
        "num_ca = len(set(y_train))\n",
        "\n",
        "y_train = to_categorical(y_train, num_ca)\n",
        "y_test = to_categorical(y_test, num_ca)"
      ],
      "execution_count": null,
      "outputs": []
    },
    {
      "cell_type": "code",
      "metadata": {
        "id": "bjh5kd0MWM9u",
        "colab": {
          "base_uri": "https://localhost:8080/"
        },
        "outputId": "88fd8885-8829-4607-989a-80bb32405535"
      },
      "source": [
        "y_train[:3]"
      ],
      "execution_count": null,
      "outputs": [
        {
          "output_type": "execute_result",
          "data": {
            "text/plain": [
              "array([[0., 0., 0., 0., 0., 0., 1., 0., 0., 0.],\n",
              "       [0., 0., 0., 0., 0., 0., 0., 0., 1., 0.],\n",
              "       [0., 0., 0., 0., 0., 0., 0., 0., 1., 0.]], dtype=float32)"
            ]
          },
          "metadata": {},
          "execution_count": 14
        }
      ]
    },
    {
      "cell_type": "markdown",
      "metadata": {
        "id": "zNfKuylW4iuv"
      },
      "source": [
        "# Q5. 다음 조건에 맞추어 뉴럴넷을 모델링 하시오.\n",
        "------------------------------\n",
        "* model1 에 모델을 선언해둔다.\n",
        "* 컴파일까지 마친다.\n",
        "    - 모니터링용 지표로 accuracy를 둔다.\n",
        "* 모델 구조는 아래와 같다.\n",
        "    - x의 모양에 맞는 적절한 인풋레이어\n",
        "    - Fully connected layer로 연결하기 위한 모양변환 레이어 --> Flatten 쓰라는 말!\n",
        "    - Fully connected layer, 64개 노드, swish(activation)\n",
        "    - Fully connected layer, 64개 노드, swish(activation)\n",
        "    - 적절한 아웃풋 레이어 --> 분류할 클래스 개수에 맞는 Dense레이어를 구성해라!\n",
        "-----------------------------------"
      ]
    },
    {
      "cell_type": "code",
      "metadata": {
        "colab": {
          "base_uri": "https://localhost:8080/"
        },
        "id": "gP5zJDHK5GT2",
        "outputId": "63ab4faa-7726-49bc-dc27-3e2d3177accd"
      },
      "source": [
        "####################\n",
        "## your code here ##\n",
        "####################\n",
        "\n",
        "keras.backend.clear_session()\n",
        "\n",
        "il = keras.layers.Input(shape=(8,8)) #input의 shape 정보, placeholder tensor\n",
        "hl = keras.layers.Flatten()(il) # (8,8) -> (64)로 vectorization\n",
        "hl = keras.layers.Dense(64, 'swish')(hl) # hidden layer 1\n",
        "hl = keras.layers.Dense(64, 'swish')(hl) # hidden layer 2\n",
        "ol = keras.layers.Dense(10, 'softmax')(hl) # output layer class 10개\n",
        "\n",
        "model1 = keras.models.Model(il, ol)\n",
        "\n",
        "model1.compile(loss='categorical_crossentropy',\n",
        "              optimizer='adam',\n",
        "              metrics=['accuracy'])\n",
        "\n",
        "model1.summary()"
      ],
      "execution_count": null,
      "outputs": [
        {
          "output_type": "stream",
          "name": "stdout",
          "text": [
            "Model: \"model\"\n",
            "_________________________________________________________________\n",
            "Layer (type)                 Output Shape              Param #   \n",
            "=================================================================\n",
            "input_1 (InputLayer)         [(None, 8, 8)]            0         \n",
            "_________________________________________________________________\n",
            "flatten (Flatten)            (None, 64)                0         \n",
            "_________________________________________________________________\n",
            "dense (Dense)                (None, 64)                4160      \n",
            "_________________________________________________________________\n",
            "dense_1 (Dense)              (None, 64)                4160      \n",
            "_________________________________________________________________\n",
            "dense_2 (Dense)              (None, 10)                650       \n",
            "=================================================================\n",
            "Total params: 8,970\n",
            "Trainable params: 8,970\n",
            "Non-trainable params: 0\n",
            "_________________________________________________________________\n"
          ]
        }
      ]
    },
    {
      "cell_type": "markdown",
      "metadata": {
        "id": "3nBHkekK5lUF"
      },
      "source": [
        "# Q6. 다음 조건에 맞추어 model1을 얼리스토핑을 이용하여 학습시키시오.\n",
        "--------------\n",
        "* epochs = 10000 -> 학습데이터 전체를 몇 번 학습할 것인가?\n",
        "* batch size는 256 -> 1회 학습시 사용할 데이터의 수\n",
        "* 10번 연속 개선이 없으면 stop\n",
        "    - loss가 유지만 되어도 개선됨으로 간주\n",
        "* 얼리스토핑시, 가장 성능이 좋았던 가중치로 복구.\n",
        "* 벨리데이션 셋은, 트레이닝 셋의 15%를 사용.\n",
        "----------"
      ]
    },
    {
      "cell_type": "code",
      "metadata": {
        "colab": {
          "base_uri": "https://localhost:8080/"
        },
        "id": "kzT6ssUq59GI",
        "outputId": "80d4d544-77c2-42b7-a572-8f4173f9bf6b"
      },
      "source": [
        "####################\n",
        "## your code here ##\n",
        "####################\n",
        "\n",
        "from tensorflow.keras.callbacks import EarlyStopping\n",
        "\n",
        "es = EarlyStopping(monitor='val_loss',\n",
        "                   min_delta=0, # 개선의 기준이 0. validataion_loss가 0이상이면 개선되고 있다고 판단\n",
        "                   patience=10, # 몇 epoch 동안 개선이 없으면 학습을 정지할 것인가\n",
        "                   verbose=1, # 학습하면서 early stopping log를 출력할건지 여부\n",
        "                   restore_best_weights=True # early stopping 시 가장 좋은 가중치로 복구할 것인지 여부\n",
        "                   )\n",
        "\n",
        "model1.fit(x_train, y_train, epochs=10000, batch_size=256, validation_split=0.15, #validation_split -> 학습셋의 15%를 validation 데이터로 사용(나머지 85%는 학습셋으로 사용)\n",
        "           callbacks=[es], verbose=1) # callbacks : 사용할 callback 함수의 리스트 얼리 스타핑을 사용."
      ],
      "execution_count": null,
      "outputs": [
        {
          "output_type": "stream",
          "name": "stdout",
          "text": [
            "Epoch 1/10000\n",
            "6/6 [==============================] - 0s 15ms/step - loss: 0.0328 - accuracy: 0.9964 - val_loss: 0.0940 - val_accuracy: 0.9630\n",
            "Epoch 2/10000\n",
            "6/6 [==============================] - 0s 7ms/step - loss: 0.0318 - accuracy: 0.9949 - val_loss: 0.1058 - val_accuracy: 0.9588\n",
            "Epoch 3/10000\n",
            "6/6 [==============================] - 0s 7ms/step - loss: 0.0306 - accuracy: 0.9956 - val_loss: 0.0919 - val_accuracy: 0.9671\n",
            "Epoch 4/10000\n",
            "6/6 [==============================] - 0s 8ms/step - loss: 0.0308 - accuracy: 0.9956 - val_loss: 0.0966 - val_accuracy: 0.9588\n",
            "Epoch 5/10000\n",
            "6/6 [==============================] - 0s 7ms/step - loss: 0.0296 - accuracy: 0.9956 - val_loss: 0.0947 - val_accuracy: 0.9588\n",
            "Epoch 6/10000\n",
            "6/6 [==============================] - 0s 7ms/step - loss: 0.0312 - accuracy: 0.9971 - val_loss: 0.0938 - val_accuracy: 0.9588\n",
            "Epoch 7/10000\n",
            "6/6 [==============================] - 0s 7ms/step - loss: 0.0284 - accuracy: 0.9964 - val_loss: 0.1036 - val_accuracy: 0.9588\n",
            "Epoch 8/10000\n",
            "6/6 [==============================] - 0s 7ms/step - loss: 0.0278 - accuracy: 0.9949 - val_loss: 0.0926 - val_accuracy: 0.9671\n",
            "Epoch 9/10000\n",
            "6/6 [==============================] - 0s 7ms/step - loss: 0.0285 - accuracy: 0.9964 - val_loss: 0.0965 - val_accuracy: 0.9588\n",
            "Epoch 10/10000\n",
            "6/6 [==============================] - 0s 8ms/step - loss: 0.0265 - accuracy: 0.9978 - val_loss: 0.0946 - val_accuracy: 0.9588\n",
            "Epoch 11/10000\n",
            "6/6 [==============================] - 0s 8ms/step - loss: 0.0262 - accuracy: 0.9971 - val_loss: 0.0943 - val_accuracy: 0.9588\n",
            "Epoch 12/10000\n",
            "6/6 [==============================] - 0s 7ms/step - loss: 0.0255 - accuracy: 0.9971 - val_loss: 0.1011 - val_accuracy: 0.9547\n",
            "Epoch 13/10000\n",
            "6/6 [==============================] - 0s 9ms/step - loss: 0.0255 - accuracy: 0.9964 - val_loss: 0.0994 - val_accuracy: 0.9588\n",
            "Restoring model weights from the end of the best epoch.\n",
            "Epoch 00013: early stopping\n"
          ]
        },
        {
          "output_type": "execute_result",
          "data": {
            "text/plain": [
              "<keras.callbacks.History at 0x7f40ff12c310>"
            ]
          },
          "metadata": {},
          "execution_count": 17
        }
      ]
    },
    {
      "cell_type": "markdown",
      "metadata": {
        "id": "34VQNpKS6lsg"
      },
      "source": [
        "# Q7. 다음 조건에 맞추어 뉴럴넷을 모델링 하시오.\n",
        "------------------------------\n",
        "* model2 에 모델을 선언해둔다.\n",
        "* 컴파일까지 마친다.\n",
        "    - 모니터링용 지표로 accuracy를 둔다.\n",
        "* 모델 구조는 아래와 같다.\n",
        "    - x의 모양에 맞는 적절한 인풋레이어\n",
        "    - Fully connected layer로 연결하기 위한 모양변환 레이어\n",
        "    - Fully connected layer, 128개 노드, swish\n",
        "    - Batch normalization\n",
        "    - drop out : drop rate 25%\n",
        "    - Fully connected layer, 128개 노드, swish\n",
        "    - Batch normalization\n",
        "    - drop out : drop rate 25%\n",
        "    - 적절한 아웃풋 레이어\n",
        "-----------------------------------"
      ]
    },
    {
      "cell_type": "code",
      "metadata": {
        "colab": {
          "base_uri": "https://localhost:8080/"
        },
        "id": "anm52rbJ6lsg",
        "outputId": "7980d17f-1b29-4aff-e750-7fc3aa0ed63d"
      },
      "source": [
        "####################\n",
        "## your code here ##\n",
        "####################\n",
        "\n",
        "il = keras.layers.Input(shape=(8,8))\n",
        "hl = keras.layers.Flatten()(il)\n",
        "hl = keras.layers.Dense(128, 'swish')(hl) # 더 많은 퍼셉트론 사용 -> 성능개선 o but 과적합 우려\n",
        "hl = keras.layers.BatchNormalization()(hl) # 과적합을 줄여주는 레이어\n",
        "hl = keras.layers.Dropout(0.25)(hl) # 과적합을 줄여주는 레이어\n",
        "hl = keras.layers.Dense(128, 'swish')(hl) # 더 많은 퍼센트론 사용 -> 성능개선 o but 과적합 우려\n",
        "hl = keras.layers.BatchNormalization()(hl) # 과적합을 줄여주는 레이어\n",
        "hl = keras.layers.Dropout(0.25)(hl) # 과적합을 줄여주는 레이어\n",
        "ol = keras.layers.Dense(10, 'softmax')(hl)\n",
        "\n",
        "model2 = keras.models.Model(il, ol)\n",
        "\n",
        "model2.compile(loss='categorical_crossentropy',\n",
        "              optimizer='adam',\n",
        "              metrics=['accuracy'])\n",
        "\n",
        "model2.summary()"
      ],
      "execution_count": null,
      "outputs": [
        {
          "output_type": "stream",
          "name": "stdout",
          "text": [
            "Model: \"model_1\"\n",
            "_________________________________________________________________\n",
            "Layer (type)                 Output Shape              Param #   \n",
            "=================================================================\n",
            "input_2 (InputLayer)         [(None, 8, 8)]            0         \n",
            "_________________________________________________________________\n",
            "flatten_1 (Flatten)          (None, 64)                0         \n",
            "_________________________________________________________________\n",
            "dense_3 (Dense)              (None, 128)               8320      \n",
            "_________________________________________________________________\n",
            "batch_normalization (BatchNo (None, 128)               512       \n",
            "_________________________________________________________________\n",
            "dropout (Dropout)            (None, 128)               0         \n",
            "_________________________________________________________________\n",
            "dense_4 (Dense)              (None, 128)               16512     \n",
            "_________________________________________________________________\n",
            "batch_normalization_1 (Batch (None, 128)               512       \n",
            "_________________________________________________________________\n",
            "dropout_1 (Dropout)          (None, 128)               0         \n",
            "_________________________________________________________________\n",
            "dense_5 (Dense)              (None, 10)                1290      \n",
            "=================================================================\n",
            "Total params: 27,146\n",
            "Trainable params: 26,634\n",
            "Non-trainable params: 512\n",
            "_________________________________________________________________\n"
          ]
        }
      ]
    },
    {
      "cell_type": "markdown",
      "metadata": {
        "id": "EXoVesOe8cuR"
      },
      "source": [
        "# Q8. 다음 조건에 맞추어 model2을 얼리스토핑을 이용하여 학습시키시오.\n",
        "--------------\n",
        "* epochs = 10000\n",
        "* batch size는 256\n",
        "* 10번 연속 개선이 없으면 stop\n",
        "    - loss가 유지만 되어도 개선됨으로 간주\n",
        "* 얼리스토핑시, 가장 성능이 좋았던 가중치로 복구.\n",
        "* 벨리데이션 셋은, 트레이닝 셋의 15%를 사용.\n",
        "----------"
      ]
    },
    {
      "cell_type": "code",
      "metadata": {
        "colab": {
          "base_uri": "https://localhost:8080/"
        },
        "id": "vkLRUsyV8cuT",
        "outputId": "282a7ee5-726c-451a-850a-21a630c0c2b4"
      },
      "source": [
        "####################\n",
        "## your code here ##\n",
        "####################\n",
        "\n",
        "from tensorflow.keras.callbacks import EarlyStopping\n",
        "\n",
        "es = EarlyStopping(monitor='val_loss',\n",
        "                   min_delta=0, patience=10,\n",
        "                   verbose=1, restore_best_weights=True)\n",
        "\n",
        "model2.fit(x_train, y_train, epochs=10000, batch_size=256, validation_split=0.15,\n",
        "           callbacks=[es], verbose=1)"
      ],
      "execution_count": null,
      "outputs": [
        {
          "output_type": "stream",
          "name": "stdout",
          "text": [
            "Epoch 1/10000\n",
            "6/6 [==============================] - 1s 49ms/step - loss: 2.3918 - accuracy: 0.2438 - val_loss: 2.1624 - val_accuracy: 0.2099\n",
            "Epoch 2/10000\n",
            "6/6 [==============================] - 0s 12ms/step - loss: 1.2048 - accuracy: 0.6063 - val_loss: 2.0423 - val_accuracy: 0.4897\n",
            "Epoch 3/10000\n",
            "6/6 [==============================] - 0s 9ms/step - loss: 0.6791 - accuracy: 0.7831 - val_loss: 1.9482 - val_accuracy: 0.6831\n",
            "Epoch 4/10000\n",
            "6/6 [==============================] - 0s 13ms/step - loss: 0.4617 - accuracy: 0.8639 - val_loss: 1.8766 - val_accuracy: 0.6996\n",
            "Epoch 5/10000\n",
            "6/6 [==============================] - 0s 11ms/step - loss: 0.3677 - accuracy: 0.8959 - val_loss: 1.8180 - val_accuracy: 0.6955\n",
            "Epoch 6/10000\n",
            "6/6 [==============================] - 0s 11ms/step - loss: 0.3125 - accuracy: 0.9076 - val_loss: 1.7682 - val_accuracy: 0.6996\n",
            "Epoch 7/10000\n",
            "6/6 [==============================] - 0s 10ms/step - loss: 0.2717 - accuracy: 0.9272 - val_loss: 1.7236 - val_accuracy: 0.7119\n",
            "Epoch 8/10000\n",
            "6/6 [==============================] - 0s 10ms/step - loss: 0.2377 - accuracy: 0.9316 - val_loss: 1.6800 - val_accuracy: 0.7202\n",
            "Epoch 9/10000\n",
            "6/6 [==============================] - 0s 10ms/step - loss: 0.2087 - accuracy: 0.9410 - val_loss: 1.6361 - val_accuracy: 0.7284\n",
            "Epoch 10/10000\n",
            "6/6 [==============================] - 0s 11ms/step - loss: 0.1970 - accuracy: 0.9410 - val_loss: 1.5945 - val_accuracy: 0.7449\n",
            "Epoch 11/10000\n",
            "6/6 [==============================] - 0s 10ms/step - loss: 0.1768 - accuracy: 0.9541 - val_loss: 1.5530 - val_accuracy: 0.7449\n",
            "Epoch 12/10000\n",
            "6/6 [==============================] - 0s 10ms/step - loss: 0.1658 - accuracy: 0.9534 - val_loss: 1.5111 - val_accuracy: 0.7654\n",
            "Epoch 13/10000\n",
            "6/6 [==============================] - 0s 12ms/step - loss: 0.1677 - accuracy: 0.9585 - val_loss: 1.4693 - val_accuracy: 0.7819\n",
            "Epoch 14/10000\n",
            "6/6 [==============================] - 0s 10ms/step - loss: 0.1384 - accuracy: 0.9672 - val_loss: 1.4283 - val_accuracy: 0.8107\n",
            "Epoch 15/10000\n",
            "6/6 [==============================] - 0s 10ms/step - loss: 0.1383 - accuracy: 0.9658 - val_loss: 1.3868 - val_accuracy: 0.8189\n",
            "Epoch 16/10000\n",
            "6/6 [==============================] - 0s 12ms/step - loss: 0.1336 - accuracy: 0.9651 - val_loss: 1.3469 - val_accuracy: 0.8272\n",
            "Epoch 17/10000\n",
            "6/6 [==============================] - 0s 10ms/step - loss: 0.1313 - accuracy: 0.9672 - val_loss: 1.3022 - val_accuracy: 0.8395\n",
            "Epoch 18/10000\n",
            "6/6 [==============================] - 0s 10ms/step - loss: 0.1210 - accuracy: 0.9694 - val_loss: 1.2560 - val_accuracy: 0.8395\n",
            "Epoch 19/10000\n",
            "6/6 [==============================] - 0s 10ms/step - loss: 0.1118 - accuracy: 0.9723 - val_loss: 1.2136 - val_accuracy: 0.8395\n",
            "Epoch 20/10000\n",
            "6/6 [==============================] - 0s 11ms/step - loss: 0.1074 - accuracy: 0.9716 - val_loss: 1.1706 - val_accuracy: 0.8477\n",
            "Epoch 21/10000\n",
            "6/6 [==============================] - 0s 11ms/step - loss: 0.1073 - accuracy: 0.9680 - val_loss: 1.1294 - val_accuracy: 0.8642\n",
            "Epoch 22/10000\n",
            "6/6 [==============================] - 0s 10ms/step - loss: 0.0959 - accuracy: 0.9811 - val_loss: 1.0872 - val_accuracy: 0.8683\n",
            "Epoch 23/10000\n",
            "6/6 [==============================] - 0s 11ms/step - loss: 0.0979 - accuracy: 0.9767 - val_loss: 1.0413 - val_accuracy: 0.8683\n",
            "Epoch 24/10000\n",
            "6/6 [==============================] - 0s 10ms/step - loss: 0.0931 - accuracy: 0.9803 - val_loss: 0.9963 - val_accuracy: 0.8930\n",
            "Epoch 25/10000\n",
            "6/6 [==============================] - 0s 10ms/step - loss: 0.0882 - accuracy: 0.9811 - val_loss: 0.9509 - val_accuracy: 0.9053\n",
            "Epoch 26/10000\n",
            "6/6 [==============================] - 0s 10ms/step - loss: 0.0860 - accuracy: 0.9767 - val_loss: 0.9099 - val_accuracy: 0.9218\n",
            "Epoch 27/10000\n",
            "6/6 [==============================] - 0s 11ms/step - loss: 0.0857 - accuracy: 0.9731 - val_loss: 0.8706 - val_accuracy: 0.9259\n",
            "Epoch 28/10000\n",
            "6/6 [==============================] - 0s 10ms/step - loss: 0.0778 - accuracy: 0.9789 - val_loss: 0.8319 - val_accuracy: 0.9300\n",
            "Epoch 29/10000\n",
            "6/6 [==============================] - 0s 11ms/step - loss: 0.0688 - accuracy: 0.9854 - val_loss: 0.7914 - val_accuracy: 0.9342\n",
            "Epoch 30/10000\n",
            "6/6 [==============================] - 0s 12ms/step - loss: 0.0736 - accuracy: 0.9862 - val_loss: 0.7539 - val_accuracy: 0.9342\n",
            "Epoch 31/10000\n",
            "6/6 [==============================] - 0s 10ms/step - loss: 0.0733 - accuracy: 0.9818 - val_loss: 0.7161 - val_accuracy: 0.9383\n",
            "Epoch 32/10000\n",
            "6/6 [==============================] - 0s 10ms/step - loss: 0.0823 - accuracy: 0.9753 - val_loss: 0.6799 - val_accuracy: 0.9424\n",
            "Epoch 33/10000\n",
            "6/6 [==============================] - 0s 11ms/step - loss: 0.0631 - accuracy: 0.9876 - val_loss: 0.6412 - val_accuracy: 0.9424\n",
            "Epoch 34/10000\n",
            "6/6 [==============================] - 0s 9ms/step - loss: 0.0659 - accuracy: 0.9862 - val_loss: 0.6044 - val_accuracy: 0.9424\n",
            "Epoch 35/10000\n",
            "6/6 [==============================] - 0s 10ms/step - loss: 0.0548 - accuracy: 0.9920 - val_loss: 0.5687 - val_accuracy: 0.9465\n",
            "Epoch 36/10000\n",
            "6/6 [==============================] - 0s 11ms/step - loss: 0.0584 - accuracy: 0.9905 - val_loss: 0.5361 - val_accuracy: 0.9506\n",
            "Epoch 37/10000\n",
            "6/6 [==============================] - 0s 10ms/step - loss: 0.0611 - accuracy: 0.9803 - val_loss: 0.5075 - val_accuracy: 0.9547\n",
            "Epoch 38/10000\n",
            "6/6 [==============================] - 0s 9ms/step - loss: 0.0581 - accuracy: 0.9862 - val_loss: 0.4797 - val_accuracy: 0.9588\n",
            "Epoch 39/10000\n",
            "6/6 [==============================] - 0s 10ms/step - loss: 0.0596 - accuracy: 0.9898 - val_loss: 0.4510 - val_accuracy: 0.9547\n",
            "Epoch 40/10000\n",
            "6/6 [==============================] - 0s 11ms/step - loss: 0.0518 - accuracy: 0.9891 - val_loss: 0.4256 - val_accuracy: 0.9547\n",
            "Epoch 41/10000\n",
            "6/6 [==============================] - 0s 10ms/step - loss: 0.0499 - accuracy: 0.9884 - val_loss: 0.4003 - val_accuracy: 0.9588\n",
            "Epoch 42/10000\n",
            "6/6 [==============================] - 0s 10ms/step - loss: 0.0472 - accuracy: 0.9884 - val_loss: 0.3733 - val_accuracy: 0.9588\n",
            "Epoch 43/10000\n",
            "6/6 [==============================] - 0s 10ms/step - loss: 0.0488 - accuracy: 0.9898 - val_loss: 0.3457 - val_accuracy: 0.9588\n",
            "Epoch 44/10000\n",
            "6/6 [==============================] - 0s 10ms/step - loss: 0.0449 - accuracy: 0.9913 - val_loss: 0.3221 - val_accuracy: 0.9588\n",
            "Epoch 45/10000\n",
            "6/6 [==============================] - 0s 9ms/step - loss: 0.0517 - accuracy: 0.9898 - val_loss: 0.3020 - val_accuracy: 0.9588\n",
            "Epoch 46/10000\n",
            "6/6 [==============================] - 0s 9ms/step - loss: 0.0376 - accuracy: 0.9964 - val_loss: 0.2847 - val_accuracy: 0.9630\n",
            "Epoch 47/10000\n",
            "6/6 [==============================] - 0s 11ms/step - loss: 0.0446 - accuracy: 0.9905 - val_loss: 0.2686 - val_accuracy: 0.9588\n",
            "Epoch 48/10000\n",
            "6/6 [==============================] - 0s 10ms/step - loss: 0.0433 - accuracy: 0.9905 - val_loss: 0.2537 - val_accuracy: 0.9588\n",
            "Epoch 49/10000\n",
            "6/6 [==============================] - 0s 10ms/step - loss: 0.0514 - accuracy: 0.9862 - val_loss: 0.2400 - val_accuracy: 0.9588\n",
            "Epoch 50/10000\n",
            "6/6 [==============================] - 0s 12ms/step - loss: 0.0369 - accuracy: 0.9942 - val_loss: 0.2262 - val_accuracy: 0.9630\n",
            "Epoch 51/10000\n",
            "6/6 [==============================] - 0s 11ms/step - loss: 0.0439 - accuracy: 0.9898 - val_loss: 0.2116 - val_accuracy: 0.9671\n",
            "Epoch 52/10000\n",
            "6/6 [==============================] - 0s 11ms/step - loss: 0.0410 - accuracy: 0.9884 - val_loss: 0.1984 - val_accuracy: 0.9671\n",
            "Epoch 53/10000\n",
            "6/6 [==============================] - 0s 9ms/step - loss: 0.0402 - accuracy: 0.9927 - val_loss: 0.1859 - val_accuracy: 0.9671\n",
            "Epoch 54/10000\n",
            "6/6 [==============================] - 0s 9ms/step - loss: 0.0382 - accuracy: 0.9942 - val_loss: 0.1752 - val_accuracy: 0.9671\n",
            "Epoch 55/10000\n",
            "6/6 [==============================] - 0s 10ms/step - loss: 0.0320 - accuracy: 0.9956 - val_loss: 0.1650 - val_accuracy: 0.9671\n",
            "Epoch 56/10000\n",
            "6/6 [==============================] - 0s 10ms/step - loss: 0.0362 - accuracy: 0.9934 - val_loss: 0.1560 - val_accuracy: 0.9712\n",
            "Epoch 57/10000\n",
            "6/6 [==============================] - 0s 11ms/step - loss: 0.0345 - accuracy: 0.9942 - val_loss: 0.1478 - val_accuracy: 0.9671\n",
            "Epoch 58/10000\n",
            "6/6 [==============================] - 0s 10ms/step - loss: 0.0372 - accuracy: 0.9934 - val_loss: 0.1406 - val_accuracy: 0.9671\n",
            "Epoch 59/10000\n",
            "6/6 [==============================] - 0s 12ms/step - loss: 0.0353 - accuracy: 0.9942 - val_loss: 0.1336 - val_accuracy: 0.9712\n",
            "Epoch 60/10000\n",
            "6/6 [==============================] - 0s 9ms/step - loss: 0.0360 - accuracy: 0.9905 - val_loss: 0.1262 - val_accuracy: 0.9712\n",
            "Epoch 61/10000\n",
            "6/6 [==============================] - 0s 10ms/step - loss: 0.0407 - accuracy: 0.9891 - val_loss: 0.1212 - val_accuracy: 0.9753\n",
            "Epoch 62/10000\n",
            "6/6 [==============================] - 0s 9ms/step - loss: 0.0346 - accuracy: 0.9934 - val_loss: 0.1169 - val_accuracy: 0.9753\n",
            "Epoch 63/10000\n",
            "6/6 [==============================] - 0s 10ms/step - loss: 0.0286 - accuracy: 0.9956 - val_loss: 0.1126 - val_accuracy: 0.9753\n",
            "Epoch 64/10000\n",
            "6/6 [==============================] - 0s 10ms/step - loss: 0.0283 - accuracy: 0.9964 - val_loss: 0.1080 - val_accuracy: 0.9753\n",
            "Epoch 65/10000\n",
            "6/6 [==============================] - 0s 11ms/step - loss: 0.0262 - accuracy: 0.9971 - val_loss: 0.1046 - val_accuracy: 0.9712\n",
            "Epoch 66/10000\n",
            "6/6 [==============================] - 0s 9ms/step - loss: 0.0260 - accuracy: 0.9949 - val_loss: 0.1013 - val_accuracy: 0.9712\n",
            "Epoch 67/10000\n",
            "6/6 [==============================] - 0s 10ms/step - loss: 0.0268 - accuracy: 0.9956 - val_loss: 0.0977 - val_accuracy: 0.9712\n",
            "Epoch 68/10000\n",
            "6/6 [==============================] - 0s 10ms/step - loss: 0.0328 - accuracy: 0.9920 - val_loss: 0.0948 - val_accuracy: 0.9712\n",
            "Epoch 69/10000\n",
            "6/6 [==============================] - 0s 10ms/step - loss: 0.0292 - accuracy: 0.9942 - val_loss: 0.0923 - val_accuracy: 0.9712\n",
            "Epoch 70/10000\n",
            "6/6 [==============================] - 0s 10ms/step - loss: 0.0293 - accuracy: 0.9964 - val_loss: 0.0882 - val_accuracy: 0.9712\n",
            "Epoch 71/10000\n",
            "6/6 [==============================] - 0s 10ms/step - loss: 0.0248 - accuracy: 0.9956 - val_loss: 0.0838 - val_accuracy: 0.9712\n",
            "Epoch 72/10000\n",
            "6/6 [==============================] - 0s 11ms/step - loss: 0.0242 - accuracy: 0.9964 - val_loss: 0.0804 - val_accuracy: 0.9712\n",
            "Epoch 73/10000\n",
            "6/6 [==============================] - 0s 11ms/step - loss: 0.0343 - accuracy: 0.9920 - val_loss: 0.0788 - val_accuracy: 0.9712\n",
            "Epoch 74/10000\n",
            "6/6 [==============================] - 0s 12ms/step - loss: 0.0222 - accuracy: 0.9971 - val_loss: 0.0775 - val_accuracy: 0.9712\n",
            "Epoch 75/10000\n",
            "6/6 [==============================] - 0s 11ms/step - loss: 0.0248 - accuracy: 0.9971 - val_loss: 0.0752 - val_accuracy: 0.9712\n",
            "Epoch 76/10000\n",
            "6/6 [==============================] - 0s 10ms/step - loss: 0.0244 - accuracy: 0.9964 - val_loss: 0.0741 - val_accuracy: 0.9712\n",
            "Epoch 77/10000\n",
            "6/6 [==============================] - 0s 10ms/step - loss: 0.0235 - accuracy: 0.9964 - val_loss: 0.0741 - val_accuracy: 0.9712\n",
            "Epoch 78/10000\n",
            "6/6 [==============================] - 0s 10ms/step - loss: 0.0288 - accuracy: 0.9920 - val_loss: 0.0742 - val_accuracy: 0.9712\n",
            "Epoch 79/10000\n",
            "6/6 [==============================] - 0s 11ms/step - loss: 0.0203 - accuracy: 0.9971 - val_loss: 0.0729 - val_accuracy: 0.9712\n",
            "Epoch 80/10000\n",
            "6/6 [==============================] - 0s 10ms/step - loss: 0.0209 - accuracy: 0.9964 - val_loss: 0.0712 - val_accuracy: 0.9712\n",
            "Epoch 81/10000\n",
            "6/6 [==============================] - 0s 10ms/step - loss: 0.0243 - accuracy: 0.9949 - val_loss: 0.0691 - val_accuracy: 0.9712\n",
            "Epoch 82/10000\n",
            "6/6 [==============================] - 0s 12ms/step - loss: 0.0174 - accuracy: 0.9993 - val_loss: 0.0660 - val_accuracy: 0.9712\n",
            "Epoch 83/10000\n",
            "6/6 [==============================] - 0s 10ms/step - loss: 0.0245 - accuracy: 0.9942 - val_loss: 0.0645 - val_accuracy: 0.9712\n",
            "Epoch 84/10000\n",
            "6/6 [==============================] - 0s 10ms/step - loss: 0.0189 - accuracy: 0.9978 - val_loss: 0.0645 - val_accuracy: 0.9753\n",
            "Epoch 85/10000\n",
            "6/6 [==============================] - 0s 11ms/step - loss: 0.0221 - accuracy: 0.9971 - val_loss: 0.0641 - val_accuracy: 0.9753\n",
            "Epoch 86/10000\n",
            "6/6 [==============================] - 0s 10ms/step - loss: 0.0240 - accuracy: 0.9949 - val_loss: 0.0642 - val_accuracy: 0.9753\n",
            "Epoch 87/10000\n",
            "6/6 [==============================] - 0s 11ms/step - loss: 0.0208 - accuracy: 0.9964 - val_loss: 0.0627 - val_accuracy: 0.9753\n",
            "Epoch 88/10000\n",
            "6/6 [==============================] - 0s 10ms/step - loss: 0.0235 - accuracy: 0.9949 - val_loss: 0.0597 - val_accuracy: 0.9753\n",
            "Epoch 89/10000\n",
            "6/6 [==============================] - 0s 11ms/step - loss: 0.0214 - accuracy: 0.9978 - val_loss: 0.0593 - val_accuracy: 0.9794\n",
            "Epoch 90/10000\n",
            "6/6 [==============================] - 0s 10ms/step - loss: 0.0174 - accuracy: 0.9971 - val_loss: 0.0599 - val_accuracy: 0.9794\n",
            "Epoch 91/10000\n",
            "6/6 [==============================] - 0s 10ms/step - loss: 0.0215 - accuracy: 0.9949 - val_loss: 0.0603 - val_accuracy: 0.9794\n",
            "Epoch 92/10000\n",
            "6/6 [==============================] - 0s 11ms/step - loss: 0.0204 - accuracy: 0.9964 - val_loss: 0.0608 - val_accuracy: 0.9794\n",
            "Epoch 93/10000\n",
            "6/6 [==============================] - 0s 10ms/step - loss: 0.0239 - accuracy: 0.9949 - val_loss: 0.0611 - val_accuracy: 0.9794\n",
            "Epoch 94/10000\n",
            "6/6 [==============================] - 0s 11ms/step - loss: 0.0163 - accuracy: 0.9964 - val_loss: 0.0619 - val_accuracy: 0.9794\n",
            "Epoch 95/10000\n",
            "6/6 [==============================] - 0s 12ms/step - loss: 0.0198 - accuracy: 0.9971 - val_loss: 0.0623 - val_accuracy: 0.9794\n",
            "Epoch 96/10000\n",
            "6/6 [==============================] - 0s 10ms/step - loss: 0.0188 - accuracy: 0.9978 - val_loss: 0.0632 - val_accuracy: 0.9794\n",
            "Epoch 97/10000\n",
            "6/6 [==============================] - 0s 10ms/step - loss: 0.0184 - accuracy: 0.9964 - val_loss: 0.0620 - val_accuracy: 0.9835\n",
            "Epoch 98/10000\n",
            "6/6 [==============================] - 0s 10ms/step - loss: 0.0197 - accuracy: 0.9956 - val_loss: 0.0617 - val_accuracy: 0.9835\n",
            "Epoch 99/10000\n",
            "6/6 [==============================] - 0s 10ms/step - loss: 0.0144 - accuracy: 0.9985 - val_loss: 0.0610 - val_accuracy: 0.9835\n",
            "Restoring model weights from the end of the best epoch.\n",
            "Epoch 00099: early stopping\n"
          ]
        },
        {
          "output_type": "execute_result",
          "data": {
            "text/plain": [
              "<keras.callbacks.History at 0x7f4102936090>"
            ]
          },
          "metadata": {},
          "execution_count": 19
        }
      ]
    },
    {
      "cell_type": "markdown",
      "metadata": {
        "id": "hFGc2QHe8kfH"
      },
      "source": [
        "# Q9. 테스트셋 위에서 두 모델을 비교하시오.\n",
        "---------------------------------\n",
        "* 두 모델의 accuracy를 출력한다.\n",
        "-------------------------"
      ]
    },
    {
      "cell_type": "code",
      "metadata": {
        "colab": {
          "base_uri": "https://localhost:8080/"
        },
        "id": "f_jhJafb8qGW",
        "outputId": "711e3b92-7dfa-4b9b-c5a6-dd4954ac7c86"
      },
      "source": [
        "####################\n",
        "## your code here ##\n",
        "####################\n",
        "\n",
        "model1.evaluate(x_test, y_test), model2.evaluate(x_test, y_test)"
      ],
      "execution_count": null,
      "outputs": [
        {
          "output_type": "stream",
          "name": "stdout",
          "text": [
            "6/6 [==============================] - 0s 4ms/step - loss: 0.1067 - accuracy: 0.9833\n",
            "6/6 [==============================] - 0s 4ms/step - loss: 0.0863 - accuracy: 0.9778\n"
          ]
        },
        {
          "output_type": "execute_result",
          "data": {
            "text/plain": [
              "([0.10667146742343903, 0.9833333492279053],\n",
              " [0.0863223522901535, 0.9777777791023254])"
            ]
          },
          "metadata": {},
          "execution_count": 20
        }
      ]
    },
    {
      "cell_type": "markdown",
      "metadata": {
        "id": "aH0Ru9Ey9E5k"
      },
      "source": [
        "# Q10. 성능이 더 좋은 모델을 이용해, 테스트 이미지를 시각화 하시오.\n",
        "----------------------------\n",
        "* 랜덤하게 테스트 이미지 한장을 시각화 한다.\n",
        "* 그 이미지가 실제 어떤 클래스인지 출력한다.\n",
        "    - 원핫 인코딩 된 정보를 출력하지 않는다.\n",
        "* 모델이 예측한 클래스도 같이 출력한다.\n",
        "    - 확률 정보를 출력하지 않는다.\n",
        "-----------------------"
      ]
    },
    {
      "cell_type": "code",
      "metadata": {
        "colab": {
          "base_uri": "https://localhost:8080/",
          "height": 299
        },
        "id": "_ONJOesl9VOo",
        "outputId": "037b69d6-a7b9-40d3-9a1b-abe7645fe7d5"
      },
      "source": [
        "####################\n",
        "## your code here ##\n",
        "####################\n",
        "\n",
        "id = id = np.random.randint(0, len(x_test))\n",
        "\n",
        "y_pred = model2.predict(x_test[id:id+1])\n",
        "\n",
        "print(f\"아래 이미지는 : {y_test[id].argmax()} 입니다.\")\n",
        "print(f\"모델의 예측은 : {y_pred.argmax()} 입니다.\")\n",
        "plt.imshow(x_test[id], cmap='Greys')\n",
        "plt.show()"
      ],
      "execution_count": null,
      "outputs": [
        {
          "output_type": "stream",
          "name": "stdout",
          "text": [
            "아래 이미지는 : 8 입니다.\n",
            "모델의 예측은 : 8 입니다.\n"
          ]
        },
        {
          "output_type": "display_data",
          "data": {
            "image/png": "[encoded data removed]",
            "text/plain": [
              "<Figure size 432x288 with 1 Axes>"
            ]
          },
          "metadata": {
            "needs_background": "light"
          }
        }
      ]
    }
  ]
}