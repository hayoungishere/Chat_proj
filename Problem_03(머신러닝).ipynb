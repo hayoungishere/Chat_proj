{
 "cells": [
  {
   "cell_type": "markdown",
   "metadata": {
    "id": "QFu6BpI3ImCg"
   },
   "source": [
    "# **Autoprice 데이터를 이용한 <span style=\"color:darkgreen\">머신러닝</span> 문제**\n",
    "---"
   ]
  },
  {
   "cell_type": "markdown",
   "metadata": {
    "id": "YjQkc3VKsho0"
   },
   "source": [
    "> **<span style=\"color:red\">다음 문항을 풀기 전에 </span>아래 코드를 실행하시오.**<br>\n",
    "> 반드시 코드와 주석을 읽고 문제를 푸시오. <br>\n",
    "> 반드시 출력된 데이터 설명을 읽고 문제를 푸시오.<br>\n",
    "> [데이터 출처 & 설명](https://archive.ics.uci.edu/ml/datasets/automobile)도 읽고 문제를 푸시오.\n",
    "---\n",
    "\n"
   ]
  },
  {
   "cell_type": "code",
   "execution_count": null,
   "metadata": {
    "id": "xHA7TccJTIa6"
   },
   "outputs": [],
   "source": [
    "import numpy as np\n",
    "import pandas as pd\n",
    "import matplotlib.pyplot as plt\n",
    "\n",
    "cols = ['symboling', 'normalized_losses', 'make', 'fuel_type', 'aspiration', 'num_of_doors',\n",
    "        'body_style', 'drive_wheels', 'engine_location', 'wheel_base', 'length', 'width', 'height',\n",
    "        'curb_weight', 'engine_type', 'num_of_cylinders', 'engine_size', 'fuel_system', 'bore', 'stroke',\n",
    "        'compression_ratio', 'horse_power', 'peak_rpm', 'city_mpg', 'highway_mpg', 'price']\n",
    "data = pd.read_csv('https://archive.ics.uci.edu/ml/machine-learning-databases/autos/imports-85.data', header=None, names=cols)\n",
    "\n",
    "data.head()"
   ]
  },
  {
   "cell_type": "markdown",
   "metadata": {
    "id": "nyvpvXRNXE6A"
   },
   "source": [
    "# Q1. data안의 모든 결측치는 '?'로 되어 있다. 모든 ?를 np.nan으로 바꾸시오.\n",
    "-----------------------------"
   ]
  },
  {
   "cell_type": "code",
   "execution_count": null,
   "metadata": {
    "id": "8fhyRNM2VZyW"
   },
   "outputs": [],
   "source": [
    "####################\n",
    "## Your code here ##\n",
    "####################\n",
    "\n"
   ]
  },
  {
   "cell_type": "markdown",
   "metadata": {
    "id": "UVYWjRBVW5VV"
   },
   "source": [
    "# Q2. data의 컬럼들을 다음 조건에 맞추어 변환하시오.\n",
    "-------------------------\n",
    "* 대상 컬럼 : price, peak_rpm, horse_power, stroke, bore, normalized_losses \n",
    "* float64로 데이터 타입을 바꾼다.\n",
    "--------------------------"
   ]
  },
  {
   "cell_type": "code",
   "execution_count": null,
   "metadata": {
    "id": "cs74s6QnX47s"
   },
   "outputs": [],
   "source": [
    "####################\n",
    "## Your code here ##\n",
    "####################\n",
    "\n"
   ]
  },
  {
   "cell_type": "markdown",
   "metadata": {
    "id": "mOumdKHWZgvI"
   },
   "source": [
    "# Q3. data에서 price컬럼이 NaN인 row를 제거하고, 인덱스를 reset하시오.\n",
    "----------------"
   ]
  },
  {
   "cell_type": "code",
   "execution_count": null,
   "metadata": {
    "id": "usHfLvBcZ42B"
   },
   "outputs": [],
   "source": [
    "####################\n",
    "## Your code here ##\n",
    "####################\n",
    "\n"
   ]
  },
  {
   "cell_type": "markdown",
   "metadata": {
    "id": "-cDCodvfacIp"
   },
   "source": [
    "# Q4. data를 트레이닝셋과 테스트셋으로 분할하시오.\n",
    "------------------\n",
    "* price 컬럼이 y, 나머지 컬럼이 x가 된다.\n",
    "* 변수명 규칙 :\n",
    "    - x_train, x_test, y_train, y_test\n",
    "* train : test = 8 : 2\n",
    "* random state, seed 등은 2021로 고정\n",
    "--------------------"
   ]
  },
  {
   "cell_type": "code",
   "execution_count": null,
   "metadata": {
    "id": "KAy9-35VaBPQ"
   },
   "outputs": [],
   "source": [
    "####################\n",
    "## Your code here ##\n",
    "####################\n",
    "\n"
   ]
  },
  {
   "cell_type": "markdown",
   "metadata": {
    "id": "JBU259uFbUAB"
   },
   "source": [
    "# Q5. data.info()를 확인하여 x안에 빈값이 있는 곳을 Imputing 하시오.\n",
    "----------------------\n",
    "* 모든 전처리 규칙은 트레이닝셋을 기준으로 찾는다.\n",
    "    - x_train, x_test 전부 imputing한다.\n",
    "* 데이터 타입이 object라면\n",
    "    - 카테고리 데이터 취급을 한다.\n",
    "    - 최빈값으로 imputing 한다.\n",
    "* 데이터 타입이 object가 아니라면\n",
    "    - 연속형 데이터 취급을 한다.\n",
    "    - 평균값으로 imputing 한다.\n",
    "-----------------------"
   ]
  },
  {
   "cell_type": "code",
   "execution_count": null,
   "metadata": {
    "id": "AV6ef8YHbYe9"
   },
   "outputs": [],
   "source": [
    "####################\n",
    "## Your code here ##\n",
    "####################\n",
    "\n"
   ]
  },
  {
   "cell_type": "markdown",
   "metadata": {
    "id": "UEtoBCyhdIYS"
   },
   "source": [
    "# Q6. 모든 x안의 카테고리 데이터를 더미변수들로 바꾸시오.\n",
    "---------------------\n",
    "* 모든 전처리 규칙은 트레닝셋을 기준으로 찾는다.\n",
    "* x_train.info()를 확인하여 object라면 카테고리 데이터 취급한다.\n",
    "    - 단, 'symboling'변수도 더미변수로 만든다.\n",
    "* 카테고리 데이터 안에 3개 클래스가 있다면, 2개 컬럼이 만들어져야 한다.\n",
    "* 원본 컬럼은 제거한다.\n",
    "* 더미 변수 제작 후, x_test의 컬럼들은 x_train의 컬럼과 같아야 한다.\n",
    "    - x_train에 없는 x_test의 컬럼은 제거를 해야 한다.\n",
    "    - x_train에만 있는 컬럼은 x_test에도 만들어야 한다.(0으로 채운다.)\n",
    "------------------------------"
   ]
  },
  {
   "cell_type": "code",
   "execution_count": null,
   "metadata": {
    "id": "KS37BcEwdg9k"
   },
   "outputs": [],
   "source": [
    "####################\n",
    "## Your code here ##\n",
    "####################\n",
    "\n"
   ]
  },
  {
   "cell_type": "markdown",
   "metadata": {
    "id": "9y0RT02lgP5Y"
   },
   "source": [
    "# Q7. 선형회귀 모델을 학습시키시오.\n",
    "---------------------\n",
    "* 모델을 lr에 선언하시오.\n",
    "---------------------"
   ]
  },
  {
   "cell_type": "code",
   "execution_count": null,
   "metadata": {
    "id": "J4WwLJ9LgXOT"
   },
   "outputs": [],
   "source": [
    "####################\n",
    "## Your code here ##\n",
    "####################\n",
    "\n"
   ]
  },
  {
   "cell_type": "markdown",
   "metadata": {
    "id": "54NCfEZLggEb"
   },
   "source": [
    "# Q8. 트레이닝셋에서, 'aspiration_turbo'가 1인 경우만을 이용하여 선형회귀 모델을 학습시키시오.\n",
    "----------------\n",
    "* 모델을 lr_turbo 에 선언하시오.\n",
    "* 전처리 방식에 따라서 aspiration_std가 0인 경우를 골라야할 수도 있다.\n",
    "--------------"
   ]
  },
  {
   "cell_type": "code",
   "execution_count": null,
   "metadata": {
    "id": "spoUS9ODhNgv"
   },
   "outputs": [],
   "source": [
    "####################\n",
    "## Your code here ##\n",
    "####################\n",
    "\n"
   ]
  },
  {
   "cell_type": "markdown",
   "metadata": {
    "id": "NI0OnIaGh73d"
   },
   "source": [
    "# Q9. 트레이닝셋에서, 'aspiration_turbo'가 0인 경우만을 이용하여 선형회귀 모델을 학습시키시오.\n",
    "----------------\n",
    "* 모델을 lr_std 에 선언하시오.\n",
    "* 전처리 방식에 따라서 aspiration_std가 1인 경우를 골라야할 수도 있다.\n",
    "--------------"
   ]
  },
  {
   "cell_type": "code",
   "execution_count": null,
   "metadata": {
    "id": "EXlrpRgJh73d"
   },
   "outputs": [],
   "source": [
    "####################\n",
    "## Your code here ##\n",
    "####################\n",
    "\n"
   ]
  },
  {
   "cell_type": "markdown",
   "metadata": {
    "id": "g6k9Uf4SiI9K"
   },
   "source": [
    "# Q10. lr, lr_turbo, lr_std 를 테스트셋 위에서 평가하시오.\n",
    "--------------------\n",
    "* RMSE를 출력한다.\n",
    "* lr_turbo는 테스트셋에서, aspiration_turbo가 1인 경우만을 이용하여 평가한다.\n",
    "* lr_std는 테스트셋에서, aspiration_turbo가 0인 경우만을 이용하여 평가한다.\n",
    "-----------------------------------------------"
   ]
  },
  {
   "cell_type": "code",
   "execution_count": null,
   "metadata": {
    "id": "mlim2nyBiYPl"
   },
   "outputs": [],
   "source": [
    "####################\n",
    "## Your code here ##\n",
    "####################\n",
    "\n"
   ]
  }
 ],
 "metadata": {
  "colab": {
   "authorship_tag": "ABX9TyPAj2EYJ/awHxcmjsJlSbsU",
   "collapsed_sections": [],
   "name": "Problem_03(머신러닝).ipynb",
   "provenance": []
  },
  "kernelspec": {
   "display_name": "Python 3",
   "language": "python",
   "name": "python3"
  },
  "language_info": {
   "codemirror_mode": {
    "name": "ipython",
    "version": 3
   },
   "file_extension": ".py",
   "mimetype": "text/x-python",
   "name": "python",
   "nbconvert_exporter": "python",
   "pygments_lexer": "ipython3",
   "version": "3.6.9"
  }
 },
 "nbformat": 4,
 "nbformat_minor": 1
}
