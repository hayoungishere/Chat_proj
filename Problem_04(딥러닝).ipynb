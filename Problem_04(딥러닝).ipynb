{
 "cells": [
  {
   "cell_type": "markdown",
   "metadata": {
    "id": "Scb4NQe2zCPP"
   },
   "source": [
    "# **Digit 데이터를 이용한 <span style=\"color:darkgreen\">뉴럴네트워크</span> 문제**\n",
    "---"
   ]
  },
  {
   "cell_type": "markdown",
   "metadata": {
    "id": "jyVZUOyPZlkN"
   },
   "source": [
    "> **<span style=\"color:red\">다음 문항을 풀기 전에 </span>아래 코드를 실행하시오.**<br>\n",
    "> 반드시 코드와 주석을 읽고 문제를 푸시오. <br>\n",
    "> 출력된 데이터 설명을 **반드시** 읽고 문제를 푸시오.\n",
    "\n",
    "---\n",
    "\n"
   ]
  },
  {
   "cell_type": "code",
   "execution_count": null,
   "metadata": {
    "id": "fiSDKfH9abY7"
   },
   "outputs": [],
   "source": [
    "import numpy as np\n",
    "import tensorflow as tf\n",
    "from tensorflow import keras\n",
    "import matplotlib.pyplot as plt\n",
    "from sklearn.datasets import load_digits\n",
    "\n",
    "digits = load_digits()\n",
    "\n",
    "x = digits.images # 인풋으로 사용할 데이터.\n",
    "y = digits.target # 아웃풋으로 사용할 데이터.\n",
    "\n",
    "print(digits.DESCR)"
   ]
  },
  {
   "cell_type": "markdown",
   "metadata": {
    "id": "heKPp9gV0che"
   },
   "source": [
    "# Q1. 다음 조건에 맞추어 데이터를 분할하시오.\n",
    "---------------------------\n",
    "* 변수명 규칙 : x_train, x_test, y_train, y_test\n",
    "* train : test = 9 : 1\n",
    "* y의 클래스가 골고루 분할이 되도록 stratify하게 분할한다.\n",
    "* random state, seed등은 2021로 고정.\n",
    "---------------------------"
   ]
  },
  {
   "cell_type": "code",
   "execution_count": null,
   "metadata": {
    "id": "UaW-TZha1QFX"
   },
   "outputs": [],
   "source": [
    "####################\n",
    "## Your code here ##\n",
    "####################\n",
    "\n"
   ]
  },
  {
   "cell_type": "markdown",
   "metadata": {
    "id": "oviV2HIh1ePP"
   },
   "source": [
    "# Q2. 모든 x들을 min-max scaling 하시오.\n",
    "---------------------------\n",
    "* 모든 트레이닝 규칙은 트레이닝 셋을 이용하여 찾아낸다.\n",
    "* 제대로 스케일링 되었는지, 결과도 확인한다.\n",
    "---------------------------"
   ]
  },
  {
   "cell_type": "code",
   "execution_count": null,
   "metadata": {
    "id": "xk5q8Ema1ePR"
   },
   "outputs": [],
   "source": [
    "####################\n",
    "## Your code here ##\n",
    "####################\n",
    "\n"
   ]
  },
  {
   "cell_type": "markdown",
   "metadata": {
    "id": "gnpStAuj2Gmu"
   },
   "source": [
    "# Q3. 실행할 때마다 트레이닝셋의 이미지 하나를 랜덤하게 시각화 하는 코드를 작성하시오.\n",
    "--------------------\n",
    "* 그 이미지가 어떤 클래스인지도 같이 출력하는 코드를 작성하시오.\n",
    "----------"
   ]
  },
  {
   "cell_type": "code",
   "execution_count": null,
   "metadata": {
    "id": "q_24UYjO2aju"
   },
   "outputs": [],
   "source": [
    "####################\n",
    "## Your code here ##\n",
    "####################\n",
    "\n"
   ]
  },
  {
   "cell_type": "markdown",
   "metadata": {
    "id": "9tf9hpt_21LC"
   },
   "source": [
    "# Q4. y들을 원핫인코딩 하시오.\n",
    "----------------\n",
    "* 모든 전처리 규칙은 트레이닝셋을 이용하여 찾는다.\n",
    "--------------"
   ]
  },
  {
   "cell_type": "code",
   "execution_count": null,
   "metadata": {
    "id": "2ujn3mJa3ISt"
   },
   "outputs": [],
   "source": [
    "####################\n",
    "## Your code here ##\n",
    "####################\n",
    "\n"
   ]
  },
  {
   "cell_type": "markdown",
   "metadata": {
    "id": "zNfKuylW4iuv"
   },
   "source": [
    "# Q5. 다음 조건에 맞추어 뉴럴넷을 모델링 하시오.\n",
    "------------------------------\n",
    "* model1 에 모델을 선언해둔다.\n",
    "* 컴파일까지 마친다.\n",
    "    - 모니터링용 지표로 accuracy를 둔다.\n",
    "* 모델 구조는 아래와 같다.\n",
    "    - x의 모양에 맞는 적절한 인풋레이어\n",
    "    - Fully connected layer로 연결하기 위한 모양변환 레이어\n",
    "    - Fully connected layer, 64개 노드, swish\n",
    "    - Fully connected layer, 64개 노드, swish\n",
    "    - 적절한 아웃풋 레이어\n",
    "-----------------------------------"
   ]
  },
  {
   "cell_type": "code",
   "execution_count": null,
   "metadata": {
    "id": "gP5zJDHK5GT2"
   },
   "outputs": [],
   "source": [
    "####################\n",
    "## Your code here ##\n",
    "####################\n",
    "\n"
   ]
  },
  {
   "cell_type": "markdown",
   "metadata": {
    "id": "3nBHkekK5lUF"
   },
   "source": [
    "# Q6. 다음 조건에 맞추어 model1을 얼리스토핑을 이용하여 학습시키시오.\n",
    "--------------\n",
    "* epochs = 10000\n",
    "* batch size는 256\n",
    "* 10번 연속 개선이 없으면 stop\n",
    "    - loss가 유지만 되어도 개선됨으로 간주\n",
    "* 얼리스토핑시, 가장 성능이 좋았던 가중치로 복구.\n",
    "* 벨리데이션 셋은, 트레이닝 셋의 15%를 사용.\n",
    "----------"
   ]
  },
  {
   "cell_type": "code",
   "execution_count": null,
   "metadata": {
    "id": "kzT6ssUq59GI"
   },
   "outputs": [],
   "source": [
    "####################\n",
    "## Your code here ##\n",
    "####################\n",
    "\n"
   ]
  },
  {
   "cell_type": "markdown",
   "metadata": {
    "id": "34VQNpKS6lsg"
   },
   "source": [
    "# Q7. 다음 조건에 맞추어 뉴럴넷을 모델링 하시오.\n",
    "------------------------------\n",
    "* model2 에 모델을 선언해둔다.\n",
    "* 컴파일까지 마친다.\n",
    "    - 모니터링용 지표로 accuracy를 둔다.\n",
    "* 모델 구조는 아래와 같다.\n",
    "    - x의 모양에 맞는 적절한 인풋레이어\n",
    "    - Fully connected layer로 연결하기 위한 모양변환 레이어\n",
    "    - Fully connected layer, 128개 노드, swish\n",
    "    - Batch normalization\n",
    "    - drop out : drop rate 25%\n",
    "    - Fully connected layer, 128개 노드, swish\n",
    "    - Batch normalization\n",
    "    - drop out : drop rate 25%\n",
    "    - 적절한 아웃풋 레이어\n",
    "-----------------------------------"
   ]
  },
  {
   "cell_type": "code",
   "execution_count": null,
   "metadata": {
    "id": "anm52rbJ6lsg"
   },
   "outputs": [],
   "source": [
    "####################\n",
    "## Your code here ##\n",
    "####################\n",
    "\n"
   ]
  },
  {
   "cell_type": "markdown",
   "metadata": {
    "id": "EXoVesOe8cuR"
   },
   "source": [
    "# Q8. 다음 조건에 맞추어 model2을 얼리스토핑을 이용하여 학습시키시오.\n",
    "--------------\n",
    "* epochs = 10000\n",
    "* batch size는 256\n",
    "* 10번 연속 개선이 없으면 stop\n",
    "    - loss가 유지만 되어도 개선됨으로 간주\n",
    "* 얼리스토핑시, 가장 성능이 좋았던 가중치로 복구.\n",
    "* 벨리데이션 셋은, 트레이닝 셋의 15%를 사용.\n",
    "----------"
   ]
  },
  {
   "cell_type": "code",
   "execution_count": null,
   "metadata": {
    "id": "vkLRUsyV8cuT"
   },
   "outputs": [],
   "source": [
    "####################\n",
    "## Your code here ##\n",
    "####################\n",
    "\n"
   ]
  },
  {
   "cell_type": "markdown",
   "metadata": {
    "id": "hFGc2QHe8kfH"
   },
   "source": [
    "# Q9. 테스트셋 위에서 두 모델을 비교하시오.\n",
    "---------------------------------\n",
    "* 두 모델의 accuracy를 출력한다.\n",
    "-------------------------"
   ]
  },
  {
   "cell_type": "code",
   "execution_count": null,
   "metadata": {
    "id": "f_jhJafb8qGW"
   },
   "outputs": [],
   "source": [
    "####################\n",
    "## Your code here ##\n",
    "####################\n",
    "\n"
   ]
  },
  {
   "cell_type": "markdown",
   "metadata": {
    "id": "aH0Ru9Ey9E5k"
   },
   "source": [
    "# Q10. 성능이 더 좋은 모델을 이용해, 테스트 이미지를 시각화 하시오.\n",
    "----------------------------\n",
    "* 랜덤하게 테스트 이미지 한장을 시각화 한다.\n",
    "* 그 이미지가 실제 어떤 클래스인지 출력한다.\n",
    "    - 원핫 인코딩 된 정보를 출력하지 않는다.\n",
    "* 모델이 예측한 클래스도 같이 출력한다.\n",
    "    - 확률 정보를 출력하지 않는다.\n",
    "-----------------------"
   ]
  },
  {
   "cell_type": "code",
   "execution_count": null,
   "metadata": {
    "id": "_ONJOesl9VOo"
   },
   "outputs": [],
   "source": [
    "####################\n",
    "## Your code here ##\n",
    "####################\n",
    "\n"
   ]
  }
 ],
 "metadata": {
  "colab": {
   "authorship_tag": "ABX9TyNeqVaEnmxcjWxUqBnKuDJn",
   "collapsed_sections": [],
   "name": "Problem_04(딥러닝).ipynb",
   "provenance": []
  },
  "kernelspec": {
   "display_name": "Python 3",
   "language": "python",
   "name": "python3"
  },
  "language_info": {
   "codemirror_mode": {
    "name": "ipython",
    "version": 3
   },
   "file_extension": ".py",
   "mimetype": "text/x-python",
   "name": "python",
   "nbconvert_exporter": "python",
   "pygments_lexer": "ipython3",
   "version": "3.6.9"
  }
 },
 "nbformat": 4,
 "nbformat_minor": 1
}
